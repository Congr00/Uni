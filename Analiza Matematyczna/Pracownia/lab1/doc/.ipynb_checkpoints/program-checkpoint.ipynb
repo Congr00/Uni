{
 "cells": [
  {
   "cell_type": "markdown",
   "metadata": {},
   "source": [
    "użytkowanie:\n",
    "\n",
    "-losowanie liczb w zadanym przedziale [a:b], aby stworzyć liczby\n",
    "ujemne ustawić neg na wartość, która będzie odejmowana\n",
    "\n",
    "# function random_array(count=100, a=0, b=0, neg=0)\n",
    "-zwraca tablicę z [x1, x2]*n elementami x1, x2, s ustawia sortowanie\n",
    "\n",
    "# function multiply(x1, x2, n, s=0)\n",
    "-funkcja pomocnicza do tworzenia danych do wykresu\n",
    "\n",
    "# function plot_ex(n, ex, input)\n",
    "-funkcja testująca 3 algorytmy, expectex_res do wyliczania błędu, ret jeśli nie drukujemy tylko zwracamy 3 elementową tablicę\n",
    "\n",
    "# function test(input_arr, expected_res=0, ret=false)\n",
    "-funkcja do obliczania kolejnych wyrazów ciągu podanego wzorem f\n",
    "\n",
    "# function Eq_Array(n, f)\n",
    "-funkcja wylicza kolejne wyrazy ciągu arytmetycznego\n",
    "\n",
    "# function arithm(a1, r, n)\n",
    "-funkcja zwraca tablicę wartości bezwzględnych z podanej tablicy \n",
    "# function abs_a(x)\n",
    "\n",
    "sum_naive(x)  - sumuje podaną tablicę\n",
    "\n",
    "sum_binary(x) --||--\n",
    "\n",
    "sum_kahan(x)  --||--\n",
    "\n",
    "reszta używanych funkcji/zmiennych jest w poniższym pliku"
   ]
  },
  {
   "cell_type": "markdown",
   "metadata": {
    "collapsed": false
   },
   "source": [
    "<center>\n",
    "    <h1> Pracownia z analizy numerycznej </h1>\n",
    "    <h3> Testowanie algorytmów do zadania <b>P1.3</b></h3>\n",
    "</center>\n",
    "\n",
    "<br>\n",
    "<p>\n",
    "   Do przetestowania sumy $\\sum_{i=0}^{n} a_n$ użyjemy następujących algorytmów:\n",
    "   <ul>\n",
    "       <li>Sumowanie naiwne</li>\n",
    "       <li>Sumowanie binarne</li>\n",
    "       <li>Sumowanie metodą Kahana</li>\n",
    "   </ul>\n",
    "</p>\n"
   ]
  },
  {
   "cell_type": "code",
   "execution_count": 366,
   "metadata": {
    "collapsed": false
   },
   "outputs": [
    {
     "data": {
      "text/plain": [
       "arithm (generic function with 1 method)"
      ]
     },
     "execution_count": 366,
     "metadata": {},
     "output_type": "execute_result"
    }
   ],
   "source": [
    "include(\"program.jl\")\n"
   ]
  },
  {
   "cell_type": "code",
   "execution_count": 117,
   "metadata": {
    "collapsed": false
   },
   "outputs": [
    {
     "name": "stdout",
     "output_type": "stream",
     "text": [
      "9342.0548896789550781\n",
      "9342.0543518066406250\n",
      "9342.0543541778442886\n"
     ]
    }
   ],
   "source": [
    "setprecision(32) #precyzja 32 bitowa\n",
    "numbers = random_array(100000, -100, 100) # 100000 losowych liczb takich że -100 <= n <= 100\n",
    "sn = sum_naive(numbers)\n",
    "sb = sum_binary(numbers)\n",
    "sk = sum_kahan(numbers)\n",
    "@printf(\"%.16f\\n\",sn)\n",
    "@printf(\"%.16f\\n\",sb)\n",
    "@printf(\"%.16f\\n\",sk)"
   ]
  },
  {
   "cell_type": "code",
   "execution_count": 118,
   "metadata": {
    "collapsed": false
   },
   "outputs": [
    {
     "name": "stdout",
     "output_type": "stream",
     "text": [
      "różnica po posortowaniu rosnącym:\n",
      "1.275978e-01\n",
      "3.356934e-04\n",
      "0.000000e+00\n",
      "różnica po posortowaniu malejącym:\n",
      "1.206055e-01\n",
      "3.356934e-04\n",
      "0.000000e+00\n"
     ]
    }
   ],
   "source": [
    "@printf(\"różnica po posortowaniu rosnącym:\\n\")\n",
    "@printf(\"%e\\n\",abs(sum_naive(sort(numbers))- sn))\n",
    "@printf(\"%e\\n\",abs(sum_binary(sort(numbers)) - sb))\n",
    "@printf(\"%e\\n\",abs(sum_kahan(sort(numbers)) - sk))\n",
    "@printf(\"różnica po posortowaniu malejącym:\\n\")\n",
    "@printf(\"%e\\n\",abs(sum_naive(sort(numbers, rev=true))- sn))\n",
    "@printf(\"%e\\n\",abs(sum_binary(sort(numbers, rev=true)) - sb))\n",
    "@printf(\"%e\\n\",abs(sum_kahan(sort(numbers, rev=true)) - sk))"
   ]
  },
  {
   "cell_type": "markdown",
   "metadata": {},
   "source": [
    " <p>Do tego funkcja losująca liczby</p>"
   ]
  },
  {
   "cell_type": "code",
   "execution_count": 119,
   "metadata": {
    "collapsed": false
   },
   "outputs": [
    {
     "name": "stdout",
     "output_type": "stream",
     "text": [
      "9342.0543541778441039\n",
      "9342.0543541778425691\n",
      "9342.0543541778442886\n",
      "różnica po posortowaniu rosnącym:\n",
      "7.545964e-12\n",
      "1.719513e-12\n",
      "0.000000e+00\n",
      "różnica po posortowaniu malejącym:\n",
      "2.100364e-11\n",
      "8.100187e-13\n",
      "0.000000e+00\n"
     ]
    }
   ],
   "source": [
    "setprecision(64)\n",
    "sn = sum_naive(numbers)\n",
    "sb = sum_binary(numbers)\n",
    "sk = sum_kahan(numbers)\n",
    "@printf(\"%.16f\\n\",sn)\n",
    "@printf(\"%.16f\\n\",sb)\n",
    "@printf(\"%.16f\\n\",sk)\n",
    "@printf(\"różnica po posortowaniu rosnącym:\\n\")\n",
    "@printf(\"%e\\n\",abs(sum_naive(sort(numbers))- sn))\n",
    "@printf(\"%e\\n\",abs(sum_binary(sort(numbers)) - sb))\n",
    "@printf(\"%e\\n\",abs(sum_kahan(sort(numbers)) - sk))\n",
    "@printf(\"różnica po posortowaniu malejącym:\\n\")\n",
    "@printf(\"%e\\n\",abs(sum_naive(sort(numbers, rev=true))- sn))\n",
    "@printf(\"%e\\n\",abs(sum_binary(sort(numbers, rev=true)) - sb))\n",
    "@printf(\"%e\\n\",abs(sum_kahan(sort(numbers, rev=true)) - sk))"
   ]
  },
  {
   "cell_type": "markdown",
   "metadata": {
    "collapsed": false
   },
   "source": [
    "test dla $\\sum_{n=0}^{\\infty}\\frac{1}{n} = \\infty$"
   ]
  },
  {
   "cell_type": "code",
   "execution_count": 150,
   "metadata": {
    "collapsed": false
   },
   "outputs": [
    {
     "name": "stdout",
     "output_type": "stream",
     "text": [
      "BigFloat[1.2360721454e+01, 1.2360721558e+01, 1.2360721551e+01]\n",
      "BigFloat[1.23607215491130180175e+01, 1.23607215491130181086e+01, 1.23607215491130181077e+01]\n",
      "BigFloat[9.50887031371527857715e-08, 9.21942512870782548973e-09, 1.76884453265135910272e-09]\n"
     ]
    }
   ],
   "source": [
    "setprecision(32)\n",
    "f1(n) = BigFloat(1/BigFloat(n))\n",
    "f1_32 = test(Eq_Array(131072, f1), 0, true) #wiecej = lepiej\n",
    "setprecision(64) \n",
    "f1_64 = test(Eq_Array(131072, f1), 0, true)\n",
    "println(f1_32)\n",
    "println(f1_64)\n",
    "println(abs_a(f1_64 -f1_32))"
   ]
  },
  {
   "cell_type": "markdown",
   "metadata": {
    "collapsed": false
   },
   "source": [
    "$\\sum_{n=0}^{\\infty}\\frac{z^n}{n!} = e^z$"
   ]
  },
  {
   "cell_type": "code",
   "execution_count": 170,
   "metadata": {
    "collapsed": false
   },
   "outputs": [
    {
     "name": "stdout",
     "output_type": "stream",
     "text": [
      "BigFloat[1.2706311558e-09, 3.3930858123e-10, 3.3930858123e-10]\n",
      "BigFloat[5.06263867633416353442e-14, 5.06263867633416353442e-14, 5.06266036037761324451e-14]\n",
      "BigFloat[1.27058052946070476619e-09, 3.39257954845226250562e-10, 3.39257954628385816065e-10]\n"
     ]
    }
   ],
   "source": [
    "setprecision(32)\n",
    "z = 1\n",
    "f2(n) = BigFloat(BigFloat(z^n)/BigFloat(factorial(n)))\n",
    "f2_32 = test(Eq_Array(16, f2), e^z, true)\n",
    "setprecision(64) \n",
    "f2_64 = test(Eq_Array(16, f2), e^z, true)\n",
    "println(f2_32)\n",
    "println(f2_64)\n",
    "println(abs_a(f2_64 -f2_32))"
   ]
  },
  {
   "cell_type": "markdown",
   "metadata": {
    "collapsed": false
   },
   "source": [
    "$\\sum_{n=0}^{\\infty}k\\frac{z^n}{n!} =ze^z$"
   ]
  },
  {
   "cell_type": "code",
   "execution_count": 172,
   "metadata": {
    "collapsed": false
   },
   "outputs": [
    {
     "name": "stdout",
     "output_type": "stream",
     "text": [
      "BigFloat[1.2706311558e-09, 3.3930858123e-10, 3.3930858123e-10]\n",
      "BigFloat[8.15342801954721529967e-13, 8.15342801954721529967e-13, 8.15342801954721529967e-13]\n",
      "BigFloat[1.26981581304551338629e-09, 3.38493238430034870667e-10, 3.38493238430034870667e-10]\n"
     ]
    }
   ],
   "source": [
    "setprecision(32)\n",
    "z = 1\n",
    "f2(n) = n*(BigFloat(BigFloat(z^n)/BigFloat(factorial(n))))\n",
    "f2_32 = test(Eq_Array(16, f2), z*e^z, true)\n",
    "setprecision(64) \n",
    "f2_64 = test(Eq_Array(16, f2), z*e^z, true)\n",
    "println(f2_32)\n",
    "println(f2_64)\n",
    "println(abs_a(f2_64 -f2_32))"
   ]
  },
  {
   "cell_type": "markdown",
   "metadata": {},
   "source": [
    "$\\sum_{n=0}^{\\infty}\\frac{(-1)^{n}z^{2n+1}}{(2n + 1)!} = sin z$"
   ]
  },
  {
   "cell_type": "code",
   "execution_count": 175,
   "metadata": {
    "collapsed": false
   },
   "outputs": [
    {
     "name": "stdout",
     "output_type": "stream",
     "text": [
      "BigFloat[5.9447624601e-10, 3.6164560235e-10, 3.6164560235e-10]\n",
      "BigFloat[3.64234083974519784466e-10, 3.64234083974519784466e-10, 3.64234083974519784466e-10]\n",
      "BigFloat[2.30242162032982811137e-10, 2.58848162088681776893e-12, 2.58848162088681776893e-12]\n"
     ]
    }
   ],
   "source": [
    "setprecision(32)\n",
    "z = 2\n",
    "f3(n) = ((-1)^n * BigFloat(z^(2*n+1))) / (BigFloat(factorial(2*n + 1)))\n",
    "f3_32 = test(Eq_Array(8, f3), sin(z), true)\n",
    "setprecision(64) \n",
    "f3_64 = test(Eq_Array(8, f3), sin(z), true)\n",
    "println(f3_32)\n",
    "println(f3_64)\n",
    "println(abs_a(f3_64 -f3_32))"
   ]
  },
  {
   "cell_type": "code",
   "execution_count": 318,
   "metadata": {
    "collapsed": false
   },
   "outputs": [
    {
     "name": "stdout",
     "output_type": "stream",
     "text": [
      "2.560000032639999999999995405897124101102e+06\n",
      "2.56000003264001104980707168579101562500000000000000000000000000000000000000000000000000000000000000000000000000000000000000000000000000000000000000000000000e+06\n"
     ]
    }
   ],
   "source": [
    "setprecision(128)\n",
    "a1 = 10000; r = 1/1000000; n = 2^8; \n",
    "exact(n) = BigFloat((a1 + a1 + BigFloat((n - 1)*r))/2 * n)\n",
    "exact_arr = [BigFloat(0.0)]\n",
    "pop!(exact_arr)\n",
    "function gen_exact_arr!(arr) \n",
    "    i = 1\n",
    "    while i <= n\n",
    "        push!(arr, exact(i))\n",
    "        i *= 2\n",
    "    end\n",
    "end\n",
    "gen_exact_arr!(exact_arr)\n",
    "println(exact(n))\n",
    "setprecision(512)\n",
    "println(sum_kahan(arithm(a1,r,n)))"
   ]
  },
  {
   "cell_type": "code",
   "execution_count": 319,
   "metadata": {
    "collapsed": false
   },
   "outputs": [
    {
     "name": "stdout",
     "output_type": "stream",
     "text": [
      "3.264000e-02\n",
      "4.134375e-04\n",
      "4.134375e-04\n",
      "64bit\n",
      "1.104981e-08\n",
      "1.104981e-08\n",
      "1.104981e-08\n",
      "BigFloat[3.26399889550963370755e-02, 4.13426450207803053427e-04, 4.13426450207803053427e-04]\n"
     ]
    },
    {
     "data": {
      "text/html": [
       "<img src=\"data:image/png;base64,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\" />"
      ]
     },
     "execution_count": 319,
     "metadata": {},
     "output_type": "execute_result"
    }
   ],
   "source": [
    "setprecision(32)\n",
    "f_32 = test(arithm(a1, r, n), exact_arr[Int(log2(n)+1)], true)\n",
    "setprecision(64) \n",
    "f_64 = test(arithm(a1, r, n), exact_arr[Int(log2(n)+1)], true)\n",
    "\n",
    "@printf(\"%e\\n\",f_32[1])\n",
    "@printf(\"%e\\n\",f_32[2])\n",
    "@printf(\"%e\\n\",f_32[3])\n",
    "@printf(\"64bit\\n%e\\n\",f_64[1])\n",
    "@printf(\"%e\\n\",f_64[2])\n",
    "@printf(\"%e\\n\",f_64[3])\n",
    "println(abs_a(f_64 -f_32))\n",
    "\n",
    "\n",
    "setprecision(32)\n",
    "arr = plot_ex(n, exact_arr, arithm(a1,r,n))\n",
    "using Plots\n",
    "pyplot()\n",
    "plot(arr[1], label=\"suma naiwna\", xlabel=\"\\$2^{n+3}\\$\", ylabel=\"błąd\")\n",
    "plot!(arr[2], label=\"suma binarna\")\n",
    "plot!(arr[3], label=\"suma kahana\")\n"
   ]
  },
  {
   "cell_type": "code",
   "execution_count": 81,
   "metadata": {
    "collapsed": false
   },
   "outputs": [
    {
     "name": "stdout",
     "output_type": "stream",
     "text": [
      "BigFloat[1.16328704170882701874e-02, 1.16319656372070312500e-02, 1.16319656372070312500e-02]\n",
      "BigFloat[9.0477988123893737793e-07, 0.00000000000000000000]\n"
     ]
    }
   ],
   "source": [
    "setprecision(128)\n",
    "n = 2^18\n",
    "exact_arr = [BigFloat(0.0)]\n",
    "pop!(exact_arr)\n",
    "gen_exact_arr!(exact_arr)\n",
    "setprecision(64) \n",
    "f_64 = test(arithm(a1, r, n), exact_arr[Int(log2(n)+1)], true)\n",
    "println(f_64)\n",
    "println(abs_a([f_64[3] - f_64[1], f_64[3] - f_64[2]]))"
   ]
  },
  {
   "cell_type": "code",
   "execution_count": 94,
   "metadata": {
    "collapsed": false
   },
   "outputs": [
    {
     "name": "stdout",
     "output_type": "stream",
     "text": [
      "BigFloat[6.4290816031e+07, 3.5156250000e-02, 3.5156250000e-02]\n",
      "BigFloat[3.51562500000000000000e-02, 3.51562500000000000000e-02, 3.51562500000000000000e-02]\n",
      "BigFloat[6.42908159960937500000e+07, 0.00000000000000000000, 0.00000000000000000000]\n"
     ]
    }
   ],
   "source": [
    "setprecision(128)\n",
    "a1 = 100000000; r = 1/1000000000000; n = 2^18; \n",
    "exact_arr = [BigFloat(0.0)]\n",
    "pop!(exact_arr)\n",
    "gen_exact_arr!(exact_arr)\n",
    "\n",
    "\n",
    "setprecision(32)\n",
    "f_32 = test(arithm(a1, r, n), exact_arr[Int(log2(n)+1)], true)\n",
    "setprecision(64) \n",
    "f_64 = test(arithm(a1, r, n), exact_arr[Int(log2(n)+1)], true)\n",
    "\n",
    "println(f_32)\n",
    "println(f_64)\n",
    "println(abs_a(f_64 -f_32))\n",
    "# test czy we float 64 da sie osiagnac wiecej - udalo sie blad rzedu 2^-2"
   ]
  },
  {
   "cell_type": "code",
   "execution_count": 337,
   "metadata": {
    "collapsed": false
   },
   "outputs": [
    {
     "name": "stdout",
     "output_type": "stream",
     "text": [
      "BigFloat[8.2560000000e+03, 0.0000000000, 0.0000000000]\n",
      "BigFloat[0.00000000000000000000, 0.00000000000000000000, 0.00000000000000000000]\n",
      "BigFloat[8.25600000000000000000e+03, 0.00000000000000000000, 0.00000000000000000000]\n"
     ]
    },
    {
     "data": {
      "text/html": [
       "<img src=\"data:image/png;base64,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\" />"
      ]
     },
     "execution_count": 337,
     "metadata": {},
     "output_type": "execute_result"
    }
   ],
   "source": [
    "setprecision(128)\n",
    "a1 = 1000000; r = 1/64; n = 2^17\n",
    "exact_arr = [BigFloat(0.0)]\n",
    "pop!(exact_arr)\n",
    "gen_exact_arr!(exact_arr)\n",
    "\n",
    "\n",
    "setprecision(32)\n",
    "f_32 = test(arithm(a1, r, n), exact_arr[Int(log2(n)+1)], true)\n",
    "setprecision(64) \n",
    "f_64 = test(arithm(a1, r, n), exact_arr[Int(log2(n)+1)], true)\n",
    "\n",
    "println(f_32)\n",
    "println(f_64)\n",
    "println(abs_a(f_64 -f_32))\n",
    "\n",
    "setprecision(32)\n",
    "arr = plot_ex(n, exact_arr, arithm(a1,r,n))\n",
    "using Plots\n",
    "pyplot()\n",
    "plot(arr[1], label=\"suma naiwna\", xlabel=\"\\$2^{n+3}\\$\", ylabel=\"błąd\")\n",
    "plot!(arr[2], label=\"suma binarna\")\n",
    "plot!(arr[3], label=\"suma kahana\")"
   ]
  },
  {
   "cell_type": "code",
   "execution_count": 126,
   "metadata": {
    "collapsed": false
   },
   "outputs": [
    {
     "name": "stdout",
     "output_type": "stream",
     "text": [
      "BigFloat[1.309333333e+03, 1.3333330154, 6.6666698456e-01]\n",
      "BigFloat[3.47139406949281692505e-03, 3.47185134887695312500e-03, 3.47185134887695312500e-03]\n",
      "BigFloat[1.30932986162137240171e+03, 1.32986116409301757812, 6.63195133209228515625e-01]\n"
     ]
    }
   ],
   "source": [
    "setprecision(128)\n",
    "a1 = 100000; r = 1/9; n = 2^16\n",
    "exact_arr = [BigFloat(0.0)]\n",
    "pop!(exact_arr)\n",
    "gen_exact_arr!(exact_arr)\n",
    "\n",
    "\n",
    "setprecision(32)\n",
    "f_32 = test(arithm(a1, r, n), exact_arr[Int(log2(n)+1)], true)\n",
    "setprecision(64) \n",
    "f_64 = test(arithm(a1, r, n), exact_arr[Int(log2(n)+1)], true)\n",
    "\n",
    "println(f_32)\n",
    "println(f_64)\n",
    "println(abs_a(f_64 -f_32))\n",
    "#test dla 1/9"
   ]
  },
  {
   "cell_type": "code",
   "execution_count": 186,
   "metadata": {
    "collapsed": false
   },
   "outputs": [
    {
     "name": "stdout",
     "output_type": "stream",
     "text": [
      "8.816094e+00\n",
      "8.160944e-01\n",
      "0.000000e+00\n",
      "\n",
      "1.839056e-01\n",
      "8.160944e-01\n",
      "0.000000e+00\n",
      "64bit\n",
      "1.527369e-07\n",
      "1.441222e-07\n",
      "0.000000e+00\n",
      "\n",
      "1.413282e-07\n",
      "1.429580e-07\n",
      "0.000000e+00\n"
     ]
    }
   ],
   "source": [
    "numbers  = random_array(2^15, 0, 100000)\n",
    "numbers2 = random_array(2^15)\n",
    "setprecision(128)\n",
    "res = append!(numbers2, numbers)\n",
    "err = sum_kahan(res)\n",
    "\n",
    "setprecision(32)\n",
    "sn = sum_naive(res)\n",
    "sb = sum_binary(res)\n",
    "sk = sum_kahan(res)\n",
    "@printf(\"%e\\n\", abs(sn - err))\n",
    "@printf(\"%e\\n\",abs(sb - err))\n",
    "@printf(\"%e\\n\",abs(sk - err))\n",
    "sn = sum_naive(sort(res, rev=true))\n",
    "sb = sum_binary(sort(res,rev=true))\n",
    "sk = sum_kahan(sort(res,rev=true))\n",
    "@printf(\"\\n%e\\n\", abs(sn - err))\n",
    "@printf(\"%e\\n\",abs(sb - err))\n",
    "@printf(\"%e\\n\",abs(sk - err))\n",
    "\n",
    "setprecision(64)\n",
    "sn = sum_naive(res)\n",
    "sb = sum_binary(res)\n",
    "sk = sum_kahan(res)\n",
    "@printf(\"64bit\\n%e\\n\", abs(sn - err))\n",
    "@printf(\"%e\\n\",abs(sb - err))\n",
    "@printf(\"%e\\n\",abs(sk - err))\n",
    "sn = sum_naive(sort(res, rev=true))\n",
    "sb = sum_binary(sort(res,rev=true))\n",
    "sk = sum_kahan(sort(res,rev=true))\n",
    "@printf(\"\\n%e\\n\", abs(sn - err))\n",
    "@printf(\"%e\\n\",abs(sb - err))\n",
    "@printf(\"%e\\n\",abs(sk - err))"
   ]
  },
  {
   "cell_type": "code",
   "execution_count": 340,
   "metadata": {
    "collapsed": false
   },
   "outputs": [
    {
     "name": "stdout",
     "output_type": "stream",
     "text": [
      "exact:\n",
      "1.000013e+10\n",
      "\n",
      "1.308078e+05\n",
      "3.759792e+00\n",
      "0.000000e+00\n",
      "\n",
      "2.402077e-01\n",
      "4.240208e+00\n",
      "0.000000e+00\n",
      "\n",
      "1.308078e+05\n",
      "4.240208e+00\n",
      "0.000000e+00\n",
      "64bit\n",
      "1.033768e-07\n",
      "6.146729e-07\n",
      "0.000000e+00\n",
      "\n",
      "1.033768e-07\n",
      "7.376075e-07\n",
      "0.000000e+00\n"
     ]
    }
   ],
   "source": [
    "numbers  = random_array(2^18-1)\n",
    "setprecision(128)\n",
    "res = append!([Float64(10000000000.0)], numbers)\n",
    "err = sum_kahan(res)\n",
    "\n",
    "@printf(\"exact:\\n%e\\n\\n\",err)\n",
    "\n",
    "setprecision(32)\n",
    "sn = sum_naive(res)\n",
    "sb = sum_binary(res)\n",
    "sk = sum_kahan(res)\n",
    "\n",
    "@printf(\"%e\\n\", abs(sn - err))\n",
    "@printf(\"%e\\n\",abs(sb - err))\n",
    "@printf(\"%e\\n\",abs(sk - err))\n",
    "\n",
    "sn = sum_naive(sort(res, rev=false))\n",
    "sb = sum_binary(sort(res,rev=false))\n",
    "sk = sum_kahan(sort(res,rev=false))\n",
    "@printf(\"\\n%e\\n\", abs(sn - err))\n",
    "@printf(\"%e\\n\",abs(sb - err))\n",
    "@printf(\"%e\\n\",abs(sk - err))\n",
    "\n",
    "sn = sum_naive(sort(res, rev=true))\n",
    "sb = sum_binary(sort(res,rev=true))\n",
    "sk = sum_kahan(sort(res,rev=true))\n",
    "@printf(\"\\n%e\\n\", abs(sn - err))\n",
    "@printf(\"%e\\n\",abs(sb - err))\n",
    "@printf(\"%e\\n\",abs(sk - err))\n",
    "\n",
    "setprecision(64)\n",
    "sn = sum_naive(res)\n",
    "sb = sum_binary(res)\n",
    "sk = sum_kahan(res)\n",
    "@printf(\"64bit\\n%e\\n\", abs(sn - err))\n",
    "@printf(\"%e\\n\",abs(sb - err))\n",
    "@printf(\"%e\\n\",abs(sk - err))\n",
    "\n",
    "sn = sum_naive(sort(res, rev=true))\n",
    "sb = sum_binary(sort(res,rev=true))\n",
    "sk = sum_kahan(sort(res,rev=true))\n",
    "@printf(\"\\n%e\\n\", abs(sn - err))\n",
    "@printf(\"%e\\n\",abs(sb - err))\n",
    "@printf(\"%e\\n\",abs(sk - err))\n"
   ]
  },
  {
   "cell_type": "code",
   "execution_count": 234,
   "metadata": {
    "collapsed": false
   },
   "outputs": [
    {
     "name": "stdout",
     "output_type": "stream",
     "text": [
      "3.073644e+07\n",
      "5.993164e+01\n",
      "0.000000e+00\n",
      "\n",
      "\n",
      "3.073644e+07\n",
      "5.993164e+01\n",
      "0.000000e+00\n",
      "64bit\n",
      "1.522255e-02\n",
      "0.000000e+00\n",
      "0.000000e+00\n"
     ]
    }
   ],
   "source": [
    "arr = multiply(100000000,1/(3^7), 2^17)\n",
    "setprecision(128)\n",
    "err = sum_kahan(arr)\n",
    "\n",
    "setprecision(32)\n",
    "sn = sum_naive(arr)\n",
    "sb = sum_binary(arr)\n",
    "sk = sum_kahan(arr)\n",
    "\n",
    "@printf(\"%e\\n\",abs(sn - err))\n",
    "@printf(\"%e\\n\",abs(sb - err))\n",
    "@printf(\"%e\\n\",abs(sk - err))\n",
    "\n",
    "sn = sum_naive(sort(arr,rev=false))\n",
    "sb = sum_binary(sort(arr,rev=false))\n",
    "sk = sum_kahan(sort(arr,rev=false))\n",
    "\n",
    "\n",
    "@printf(\"\\n\\n%e\\n\", abs(sn - err))\n",
    "@printf(\"%e\\n\",abs(sb - err))\n",
    "@printf(\"%e\\n\",abs(sk - err))\n",
    "\n",
    "setprecision(64)\n",
    "\n",
    "sn = sum_naive(arr)\n",
    "sb = sum_binary(arr)\n",
    "sk = sum_kahan(arr)\n",
    "\n",
    "@printf(\"64bit\\n%e\\n\", abs(sn - err))\n",
    "@printf(\"%e\\n\",abs(sb - err))\n",
    "@printf(\"%e\\n\",abs(sk - err))"
   ]
  },
  {
   "cell_type": "code",
   "execution_count": 689,
   "metadata": {
    "collapsed": false
   },
   "outputs": [
    {
     "name": "stdout",
     "output_type": "stream",
     "text": [
      "1.0001979202649829\n",
      "6.239437e-02\n",
      "1.056283e-04\n",
      "0.000000e+00\n"
     ]
    }
   ],
   "source": [
    "numbers  = random_array(2^16,1,100, 2)\n",
    "numbersa = [Float64(0.0)]\n",
    "pop!(numbersa)\n",
    "for i in numbers\n",
    "    push!(numbersa, abs(i))\n",
    "end    \n",
    "setprecision(256)\n",
    "err = sum_kahan(numbers)\n",
    "println(sum_kahan(abs_a(numbersa))/abs(err))\n",
    "setprecision(32)\n",
    "sn = sum_naive(numbers)\n",
    "sb = sum_binary(numbers)\n",
    "sk = sum_kahan(numbers)\n",
    "@printf(\"%e\\n\", abs(sn - err))\n",
    "@printf(\"%e\\n\",abs(sb - err))\n",
    "@printf(\"%e\\n\",abs(sk - err))\n",
    "\n",
    "#=\n",
    "4.153169892563103\n",
    "373.77723662652926\n",
    "2.269599e-08\n",
    "7.106337e-09\n",
    "0.000000e+00\n",
    "=#"
   ]
  }
 ],
 "metadata": {
  "anaconda-cloud": {},
  "kernelspec": {
   "display_name": "Julia 0.6.1",
   "language": "julia",
   "name": "julia-0.6"
  },
  "language_info": {
   "file_extension": ".jl",
   "mimetype": "application/julia",
   "name": "julia",
   "version": "0.6.1"
  }
 },
 "nbformat": 4,
 "nbformat_minor": 1
}
