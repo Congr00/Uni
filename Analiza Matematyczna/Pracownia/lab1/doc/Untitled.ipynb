{
 "cells": [
  {
   "cell_type": "code",
   "execution_count": 44,
   "metadata": {
    "collapsed": false
   },
   "outputs": [
    {
     "data": {
      "text/plain": [
       "f (generic function with 1 method)"
      ]
     },
     "execution_count": 44,
     "metadata": {},
     "output_type": "execute_result"
    }
   ],
   "source": [
    "\n",
    "\n",
    "function Lagrange(n, f, a, b)\n",
    "\tvec = w2(n, a, b)\n",
    "\tfunction poly(x)\n",
    "\t\tres = 0.0\n",
    "\t\tfor k = 0:n\n",
    "\t\tlambda = 1.0\n",
    "\t\t\tfor j = 0:n\n",
    "\t\t\t\tif j != k\n",
    "\t\t\t\t\tlambda *= (x - vec[j+1])/(vec[k+1] - vec[j+1])\n",
    "\t\t\t\tend\n",
    "\t\t\tend\n",
    "\t\tres += f(vec[k + 1]) * lambda\n",
    "\t\tend\n",
    "\t\treturn res\n",
    "\tend\n",
    "\treturn poly\n",
    "end\n",
    "\n",
    "function w2(n, a, b)\n",
    "\tx = [0.0]\n",
    "\tpop!(x)\n",
    "    tmp = Float64((abs(a) + abs(b))/n)\n",
    "\tfor i = 0:n\n",
    "\t\tpush!(x ,(a + tmp*i))\n",
    "\tend\t\n",
    "\treturn x\n",
    "end\n",
    "\n",
    "function w(n, a, b)\n",
    "\tx = [(0.0,0.0)]\n",
    "\tpop!(x)\n",
    "\ttmp = Float64((abs(a) + abs(b))/n)\n",
    "\tfor i = 0:n\n",
    "\t\tpush!(x,(a + tmp*i, a + tmp*(i+ 1)))\n",
    "\tend\t\n",
    "\treturn x\n",
    "end\n",
    "\n",
    "\n",
    "f(x) = e^(atan(x))"
   ]
  },
  {
   "cell_type": "code",
   "execution_count": 55,
   "metadata": {
    "collapsed": false
   },
   "outputs": [
    {
     "data": {
      "image/png": "[encoded data removed]",
      "text/plain": [
       "PyPlot.Figure(PyObject <matplotlib.figure.Figure object at 0x7f17beedb810>)"
      ]
     },
     "metadata": {},
     "output_type": "display_data"
    },
    {
     "data": {
      "text/plain": [
       "1-element Array{PyCall.PyObject,1}:\n",
       " PyObject <matplotlib.lines.Line2D object at 0x7f17bee4fb90>"
      ]
     },
     "execution_count": 55,
     "metadata": {},
     "output_type": "execute_result"
    }
   ],
   "source": [
    "using PyPlot\n",
    "p = Lagrange(10, f, -5, 5)\n",
    "tmp = 10/100\n",
    "arr = [0.0]\n",
    "arr2 = [0.0]\n",
    "pop!(arr)\n",
    "pop!(arr2)\n",
    "for i = 0:1000\n",
    "    push!(arr, p(i))\n",
    "end\n",
    "x = linspace(-5, 5, 1000)\n",
    "y = exp.((atan.(x)))\n",
    "#plot(x,y,color=\"red\", linewidth=2.0, linestyle=\"--\")\n",
    "plot(arr)"
   ]
  },
  {
   "cell_type": "code",
   "execution_count": 57,
   "metadata": {
    "collapsed": false
   },
   "outputs": [
    {
     "ename": "LoadError",
     "evalue": "\u001b[91mUndefVarError: ls not defined\u001b[39m",
     "output_type": "error",
     "traceback": [
      "\u001b[91mUndefVarError: ls not defined\u001b[39m",
      "",
      "Stacktrace:",
      " [1] \u001b[1minclude_string\u001b[22m\u001b[22m\u001b[1m(\u001b[22m\u001b[22m::String, ::String\u001b[1m)\u001b[22m\u001b[22m at \u001b[1m./loading.jl:522\u001b[22m\u001b[22m"
     ]
    }
   ],
   "source": [
    "ls"
   ]
  },
  {
   "cell_type": "code",
   "execution_count": null,
   "metadata": {
    "collapsed": true
   },
   "outputs": [],
   "source": []
  },
  {
   "cell_type": "code",
   "execution_count": null,
   "metadata": {
    "collapsed": true
   },
   "outputs": [],
   "source": []
  },
  {
   "cell_type": "code",
   "execution_count": null,
   "metadata": {
    "collapsed": true
   },
   "outputs": [],
   "source": []
  }
 ],
 "metadata": {
  "anaconda-cloud": {},
  "kernelspec": {
   "display_name": "Julia 0.6.1",
   "language": "julia",
   "name": "julia-0.6"
  },
  "language_info": {
   "file_extension": ".jl",
   "mimetype": "application/julia",
   "name": "julia",
   "version": "0.6.1"
  }
 },
 "nbformat": 4,
 "nbformat_minor": 1
}
