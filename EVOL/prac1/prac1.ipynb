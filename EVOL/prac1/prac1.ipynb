{
 "cells": [
  {
   "cell_type": "markdown",
   "metadata": {},
   "source": [
    "# Simulated Annealing Demo\n",
    "\n",
    "Skrypt przedstawia przykładową implementację algorytmu symulowanego wyżarzania (ang. Simulated Annealing, SA) i jego zastosowanie do rozwiązywania problemu Quadratic Assignment Problem (QAP). Problem jest dokładnie opisany m.in. w pracy Burkarda i innych [1]. Popularne instancje problemu QAP można znaleźć w bibliotece QAPLib [2]. Skrypt skupia się na rozwiązywaniu instancji NUG12 [3], w celu rozwiązywania innych instancji może okazać się konieczna zmiana ustawień parametrów algorytmu.\n",
    "\n",
    "Literatura:\n",
    "\n",
    "[1]  Burkard, R., Cela, E., Pardalos, P., Pitsoulis, L., \"The Quadratic Assignment Problem\", http://citeseerx.ist.psu.edu/viewdoc/summary?doi=10.1.1.217.1914\n",
    "\n",
    "[2] QAPLIB, http://anjos.mgi.polymtl.ca/qaplib/\n",
    "\n",
    "[3] NUG12, http://anjos.mgi.polymtl.ca/qaplib/data.d/nug12.dat"
   ]
  },
  {
   "cell_type": "raw",
   "metadata": {},
   "source": [
    "# Popularne instancje QAP wraz z dokładnym minimum funkcji celu\n",
    "   Nug12   12    578 (OPT)    (12,7,9,3,4,8,11,1,5,6,10,2)                 \n",
    "   Nug14   14   1014 (OPT)    (9,8,13,2,1,11,7,14,3,4,12,5,6,10)            \n",
    "   Nug15   15   1150 (OPT)    (1,2,13,8,9,4,3,14,7,11,10,15,6,5,12)          \n",
    "   Nug16a  16   1610 (OPT)    (9,14,2,15,16,3,10,12,8,11,6,5,7,1,4,13)      \n",
    "   Nug16b  16   1240 (OPT)    (16,12,13,8,4,2,9,11,15,10,7,3,14,6,1,5)       \n",
    "   Nug17   17   1732 (OPT)    (16,15,2,14,9,11,8,12,10,3,4,1,7,6,13,17,5)       \n",
    "   Nug18   18   1930 (OPT)    (10,3,14,2,18,6,7,12,15,4,5,1,11,8,17,13,9,16)     \n",
    "   Nug20   20   2570 (OPT)    (18,14,10,3,9,4,2,12,11,16,19,15,20,8,13,17,5,7,1,6)\n",
    "   Nug21   21   2438 (OPT)    (4,21,3,9,13,2,5,14,18,11,16,10,6,15,20,19,8,7,1,12,17) \n",
    "   Nug22   22   3596 (OPT)    (2,21,9,10,7,3,1,19,8,20,17,5,13,6,12,16,11,22,18,14,15) \n",
    "   Nug24   24   3488 (OPT)    (17,8,11,23,4,20,15,19,22,18,3,14,1,10,7,9,16,21,24,12,6,13,5,2)\n",
    "   Nug25   25   3744 (OPT)    (5,11,20,15,22,2,25,8,9,1,18,16,3,6,19,24,21,14,7,10,17,12,4,23,13)\n",
    "*  Nug27   27   5234 (OPT)    (23,18,3,1,27,17,5,12,7,15,4,26,8,19,20,2,24,21,14,10,9,13,22,25,6,16,11)\n",
    "*  Nug28   28   5166 (OPT)    (18,21,9,1,28,20,11,3,13,12,10,19,14,22,15,2,25,16,4,23,7,17,24,26,5,27,8,6)\n",
    "*  Nug30   30   6124 (OPT)    (5 12 6 13 2 21 26 24 10 9 29 28 17 1 8 7 19 25 23 22 11 16 30 4 15 18 27 3 14 20)   "
   ]
  },
  {
   "cell_type": "code",
   "execution_count": 2,
   "metadata": {},
   "outputs": [],
   "source": [
    "import numpy as np\n",
    "import matplotlib.pyplot as plt\n",
    "import time\n",
    "import urllib.request\n",
    "\n",
    "%matplotlib inline"
   ]
  },
  {
   "cell_type": "code",
   "execution_count": 90,
   "metadata": {},
   "outputs": [],
   "source": [
    "QAP_INSTANCE_URL = 'http://anjos.mgi.polymtl.ca/qaplib/data.d/nug12.dat'"
   ]
  },
  {
   "cell_type": "markdown",
   "metadata": {},
   "source": [
    "## Reading input data"
   ]
  },
  {
   "cell_type": "code",
   "execution_count": 91,
   "metadata": {},
   "outputs": [
    {
     "name": "stdout",
     "output_type": "stream",
     "text": [
      "Problem size: 12\n",
      "Flow matrix:\n",
      " [[0. 1. 2. 3. 1. 2. 3. 4. 2. 3. 4. 5.]\n",
      " [1. 0. 1. 2. 2. 1. 2. 3. 3. 2. 3. 4.]\n",
      " [2. 1. 0. 1. 3. 2. 1. 2. 4. 3. 2. 3.]\n",
      " [3. 2. 1. 0. 4. 3. 2. 1. 5. 4. 3. 2.]\n",
      " [1. 2. 3. 4. 0. 1. 2. 3. 1. 2. 3. 4.]\n",
      " [2. 1. 2. 3. 1. 0. 1. 2. 2. 1. 2. 3.]\n",
      " [3. 2. 1. 2. 2. 1. 0. 1. 3. 2. 1. 2.]\n",
      " [4. 3. 2. 1. 3. 2. 1. 0. 4. 3. 2. 1.]\n",
      " [2. 3. 4. 5. 1. 2. 3. 4. 0. 1. 2. 3.]\n",
      " [3. 2. 3. 4. 2. 1. 2. 3. 1. 0. 1. 2.]\n",
      " [4. 3. 2. 3. 3. 2. 1. 2. 2. 1. 0. 1.]\n",
      " [5. 4. 3. 2. 4. 3. 2. 1. 3. 2. 1. 0.]]\n",
      "Distance matrix:\n",
      " [[ 0.  5.  2.  4.  1.  0.  0.  6.  2.  1.  1.  1.]\n",
      " [ 5.  0.  3.  0.  2.  2.  2.  0.  4.  5.  0.  0.]\n",
      " [ 2.  3.  0.  0.  0.  0.  0.  5.  5.  2.  2.  2.]\n",
      " [ 4.  0.  0.  0.  5.  2.  2. 10.  0.  0.  5.  5.]\n",
      " [ 1.  2.  0.  5.  0. 10.  0.  0.  0.  5.  1.  1.]\n",
      " [ 0.  2.  0.  2. 10.  0.  5.  1.  1.  5.  4.  0.]\n",
      " [ 0.  2.  0.  2.  0.  5.  0. 10.  5.  2.  3.  3.]\n",
      " [ 6.  0.  5. 10.  0.  1. 10.  0.  0.  0.  5.  0.]\n",
      " [ 2.  4.  5.  0.  0.  1.  5.  0.  0.  0. 10. 10.]\n",
      " [ 1.  5.  2.  0.  5.  5.  2.  0.  0.  0.  5.  0.]\n",
      " [ 1.  0.  2.  5.  1.  4.  3.  5. 10.  5.  0.  2.]\n",
      " [ 1.  0.  2.  5.  1.  0.  3.  0. 10.  0.  2.  0.]]\n"
     ]
    }
   ],
   "source": [
    "def read_data(URL):\n",
    "    qap_instance_file = urllib.request.urlopen(URL)\n",
    "\n",
    "    line = qap_instance_file.readline()\n",
    "    n = int(line.decode()[:-1].split()[0])\n",
    "    print('Problem size: %d' % n)\n",
    "\n",
    "    A = np.empty((n, n))\n",
    "    qap_instance_file.readline()\n",
    "    for i in range(n):\n",
    "        line = qap_instance_file.readline()\n",
    "        A[i, :] = list(map(int, line.decode()[:-1].split()))\n",
    "    print('Flow matrix:\\n', A)\n",
    "\n",
    "    B = np.empty((n, n))\n",
    "    qap_instance_file.readline()\n",
    "    for i in range(n):\n",
    "        line = qap_instance_file.readline()\n",
    "        B[i, :] = list(map(int, line.decode()[:-1].split()))\n",
    "    print('Distance matrix:\\n', B)\n",
    "    return n, A, B\n",
    "n, A, B = read_data(QAP_INSTANCE_URL)"
   ]
  },
  {
   "cell_type": "markdown",
   "metadata": {},
   "source": [
    "## Objective function"
   ]
  },
  {
   "cell_type": "code",
   "execution_count": 36,
   "metadata": {},
   "outputs": [],
   "source": [
    "def qap_objective_function(p):\n",
    "    s = 0.0\n",
    "    for i in range(n):\n",
    "        s += (A[i, :] * B[p[i], p]).sum()\n",
    "    return s"
   ]
  },
  {
   "cell_type": "code",
   "execution_count": 92,
   "metadata": {},
   "outputs": [
    {
     "name": "stdout",
     "output_type": "stream",
     "text": [
      "578.0 [11, 6, 8, 2, 3, 7, 10, 0, 4, 5, 9, 1]\n"
     ]
    }
   ],
   "source": [
    "p = [11, 6, 8, 2, 3, 7, 10, 0, 4, 5, 9, 1]\n",
    "print(qap_objective_function(p), p)"
   ]
  },
  {
   "cell_type": "markdown",
   "metadata": {},
   "source": [
    "## Random Sampling"
   ]
  },
  {
   "cell_type": "code",
   "execution_count": 44,
   "metadata": {},
   "outputs": [
    {
     "name": "stdout",
     "output_type": "stream",
     "text": [
      "68.32961249351501\n",
      "608.0 [ 8 10  1  9 11  6  0  5  2  7  3  4]\n"
     ]
    }
   ],
   "source": [
    "t0 = time.time()\n",
    "\n",
    "T = 1000000\n",
    "\n",
    "permutations = np.empty((T, n), dtype=np.int64)\n",
    "costs = np.zeros(T)\n",
    "for i in range(T):\n",
    "    permutations[i, :] = np.random.permutation(n)\n",
    "    costs[i] = qap_objective_function(permutations[i, :])\n",
    "\n",
    "print(time.time() - t0)\n",
    "\n",
    "p = permutations[costs.argmin(), :]\n",
    "print(qap_objective_function(p), p)"
   ]
  },
  {
   "cell_type": "code",
   "execution_count": 45,
   "metadata": {},
   "outputs": [
    {
     "data": {
      "image/png": "[encoded data removed]",
      "text/plain": [
       "<Figure size 432x288 with 1 Axes>"
      ]
     },
     "metadata": {
      "needs_background": "light"
     },
     "output_type": "display_data"
    },
    {
     "name": "stdout",
     "output_type": "stream",
     "text": [
      "812.029156 49.73114000229297\n"
     ]
    }
   ],
   "source": [
    "plt.figure()\n",
    "plt.hist(costs, bins=100)\n",
    "plt.show()\n",
    "\n",
    "print(costs.mean(), costs.std())"
   ]
  },
  {
   "cell_type": "markdown",
   "metadata": {},
   "source": [
    "## Simulated Annealing"
   ]
  },
  {
   "cell_type": "code",
   "execution_count": 9,
   "metadata": {},
   "outputs": [],
   "source": [
    "def random_neighbor(p, radius):\n",
    "    q = p.copy()\n",
    "    for r in range(radius):\n",
    "        i, j = np.random.choice(n, 2, replace=False)\n",
    "        q[i], q[j] = q[j], q[i]\n",
    "    return q"
   ]
  },
  {
   "cell_type": "code",
   "execution_count": 93,
   "metadata": {},
   "outputs": [
    {
     "name": "stdout",
     "output_type": "stream",
     "text": [
      "45.82171607017517 578.0\n"
     ]
    }
   ],
   "source": [
    "def simulated_annaling(n, T=500000, radius=1, alpha=1.0):\n",
    "    t0 = time.time()\n",
    "\n",
    "    p = np.random.permutation(n)\n",
    "    p_cost = qap_objective_function(p)\n",
    "    costs = np.zeros(T)\n",
    "    for t in range(T):\n",
    "        q = random_neighbor(p, radius)\n",
    "        q_cost = qap_objective_function(q)\n",
    "        if(q_cost < p_cost):\n",
    "            p, p_cost = q, q_cost\n",
    "        elif(np.random.rand() < np.exp(- alpha * (q_cost - p_cost) * t/T)):\n",
    "            p, p_cost = q, q_cost\n",
    "        costs[t] = p_cost\n",
    "\n",
    "    print(time.time() - t0, costs.min())\n",
    "    return costs, p\n",
    "costs = simulated_annaling(n)    "
   ]
  },
  {
   "cell_type": "code",
   "execution_count": 49,
   "metadata": {},
   "outputs": [
    {
     "data": {
      "image/png": "[encoded data removed]",
      "text/plain": [
       "<Figure size 432x288 with 1 Axes>"
      ]
     },
     "metadata": {
      "needs_background": "light"
     },
     "output_type": "display_data"
    }
   ],
   "source": [
    "plt.figure()\n",
    "plt.plot(costs)\n",
    "plt.show()"
   ]
  },
  {
   "cell_type": "markdown",
   "metadata": {},
   "source": [
    "# zad 1 a)"
   ]
  },
  {
   "cell_type": "code",
   "execution_count": 54,
   "metadata": {},
   "outputs": [
    {
     "name": "stdout",
     "output_type": "stream",
     "text": [
      "Problem size: 14\n",
      "Flow matrix:\n",
      " [[0. 1. 2. 3. 4. 1. 2. 3. 4. 5. 2. 3. 4. 5.]\n",
      " [1. 0. 1. 2. 3. 2. 1. 2. 3. 4. 3. 2. 3. 4.]\n",
      " [2. 1. 0. 1. 2. 3. 2. 1. 2. 3. 4. 3. 2. 3.]\n",
      " [3. 2. 1. 0. 1. 4. 3. 2. 1. 2. 5. 4. 3. 2.]\n",
      " [4. 3. 2. 1. 0. 5. 4. 3. 2. 1. 6. 5. 4. 3.]\n",
      " [1. 2. 3. 4. 5. 0. 1. 2. 3. 4. 1. 2. 3. 4.]\n",
      " [2. 1. 2. 3. 4. 1. 0. 1. 2. 3. 2. 1. 2. 3.]\n",
      " [3. 2. 1. 2. 3. 2. 1. 0. 1. 2. 3. 2. 1. 2.]\n",
      " [4. 3. 2. 1. 2. 3. 2. 1. 0. 1. 4. 3. 2. 1.]\n",
      " [5. 4. 3. 2. 1. 4. 3. 2. 1. 0. 5. 4. 3. 2.]\n",
      " [2. 3. 4. 5. 6. 1. 2. 3. 4. 5. 0. 1. 2. 3.]\n",
      " [3. 2. 3. 4. 5. 2. 1. 2. 3. 4. 1. 0. 1. 2.]\n",
      " [4. 3. 2. 3. 4. 3. 2. 1. 2. 3. 2. 1. 0. 1.]\n",
      " [5. 4. 3. 2. 3. 4. 3. 2. 1. 2. 3. 2. 1. 0.]]\n",
      "Distance matrix:\n",
      " [[ 0. 10.  0.  5.  1.  0.  1.  2.  2.  2.  2.  0.  4.  0.]\n",
      " [10.  0.  1.  3.  2.  2.  2.  3.  2.  0.  2.  0. 10.  5.]\n",
      " [ 0.  1.  0. 10.  2.  0.  2.  5.  4.  5.  2.  2.  5.  5.]\n",
      " [ 5.  3. 10.  0.  1.  1.  5.  0.  0.  2.  1.  0.  2.  5.]\n",
      " [ 1.  2.  2.  1.  0.  3.  5.  5.  5.  1.  0.  3.  0.  5.]\n",
      " [ 0.  2.  0.  1.  3.  0.  2.  2.  1.  5.  0.  0.  2.  5.]\n",
      " [ 1.  2.  2.  5.  5.  2.  0.  6.  0.  1.  5.  5.  5.  1.]\n",
      " [ 2.  3.  5.  0.  5.  2.  6.  0.  5.  2. 10.  0.  5.  0.]\n",
      " [ 2.  2.  4.  0.  5.  1.  0.  5.  0.  0. 10.  5. 10.  0.]\n",
      " [ 2.  0.  5.  2.  1.  5.  1.  2.  0.  0.  0.  4.  0.  0.]\n",
      " [ 2.  2.  2.  1.  0.  0.  5. 10. 10.  0.  0.  5.  0.  5.]\n",
      " [ 0.  0.  2.  0.  3.  0.  5.  0.  5.  4.  5.  0.  3.  3.]\n",
      " [ 4. 10.  5.  2.  0.  2.  5.  5. 10.  0.  0.  3.  0. 10.]\n",
      " [ 0.  5.  5.  5.  5.  5.  1.  0.  0.  0.  5.  3. 10.  0.]]\n"
     ]
    }
   ],
   "source": [
    "n, A, B = read_data('http://anjos.mgi.polymtl.ca/qaplib/data.d/nug14.dat')"
   ]
  },
  {
   "cell_type": "code",
   "execution_count": 55,
   "metadata": {},
   "outputs": [
    {
     "name": "stdout",
     "output_type": "stream",
     "text": [
      "1014.0 [8, 7, 12, 1, 0, 10, 6, 13, 2, 3, 11, 4, 5, 9]\n"
     ]
    }
   ],
   "source": [
    "p = [8, 7, 12, 1, 0, 10, 6, 13, 2, 3, 11, 4, 5, 9]\n",
    "print(qap_objective_function(p), p)"
   ]
  },
  {
   "cell_type": "code",
   "execution_count": 56,
   "metadata": {},
   "outputs": [
    {
     "name": "stdout",
     "output_type": "stream",
     "text": [
      "51.273181438446045 1014.0\n"
     ]
    }
   ],
   "source": [
    "costs = simulated_annaling(n)   "
   ]
  },
  {
   "cell_type": "code",
   "execution_count": 57,
   "metadata": {},
   "outputs": [
    {
     "data": {
      "image/png": "[encoded data removed]",
      "text/plain": [
       "<Figure size 432x288 with 1 Axes>"
      ]
     },
     "metadata": {
      "needs_background": "light"
     },
     "output_type": "display_data"
    }
   ],
   "source": [
    "plt.figure()\n",
    "plt.plot(costs)\n",
    "plt.show()"
   ]
  },
  {
   "cell_type": "code",
   "execution_count": 58,
   "metadata": {},
   "outputs": [
    {
     "name": "stdout",
     "output_type": "stream",
     "text": [
      "Problem size: 15\n",
      "Flow matrix:\n",
      " [[0. 1. 2. 3. 4. 1. 2. 3. 4. 5. 2. 3. 4. 5. 6.]\n",
      " [1. 0. 1. 2. 3. 2. 1. 2. 3. 4. 3. 2. 3. 4. 5.]\n",
      " [2. 1. 0. 1. 2. 3. 2. 1. 2. 3. 4. 3. 2. 3. 4.]\n",
      " [3. 2. 1. 0. 1. 4. 3. 2. 1. 2. 5. 4. 3. 2. 3.]\n",
      " [4. 3. 2. 1. 0. 5. 4. 3. 2. 1. 6. 5. 4. 3. 2.]\n",
      " [1. 2. 3. 4. 5. 0. 1. 2. 3. 4. 1. 2. 3. 4. 5.]\n",
      " [2. 1. 2. 3. 4. 1. 0. 1. 2. 3. 2. 1. 2. 3. 4.]\n",
      " [3. 2. 1. 2. 3. 2. 1. 0. 1. 2. 3. 2. 1. 2. 3.]\n",
      " [4. 3. 2. 1. 2. 3. 2. 1. 0. 1. 4. 3. 2. 1. 2.]\n",
      " [5. 4. 3. 2. 1. 4. 3. 2. 1. 0. 5. 4. 3. 2. 1.]\n",
      " [2. 3. 4. 5. 6. 1. 2. 3. 4. 5. 0. 1. 2. 3. 4.]\n",
      " [3. 2. 3. 4. 5. 2. 1. 2. 3. 4. 1. 0. 1. 2. 3.]\n",
      " [4. 3. 2. 3. 4. 3. 2. 1. 2. 3. 2. 1. 0. 1. 2.]\n",
      " [5. 4. 3. 2. 3. 4. 3. 2. 1. 2. 3. 2. 1. 0. 1.]\n",
      " [6. 5. 4. 3. 2. 5. 4. 3. 2. 1. 4. 3. 2. 1. 0.]]\n",
      "Distance matrix:\n",
      " [[ 0. 10.  0.  5.  1.  0.  1.  2.  2.  2.  2.  0.  4.  0.  0.]\n",
      " [10.  0.  1.  3.  2.  2.  2.  3.  2.  0.  2.  0. 10.  5.  0.]\n",
      " [ 0.  1.  0. 10.  2.  0.  2.  5.  4.  5.  2.  2.  5.  5.  5.]\n",
      " [ 5.  3. 10.  0.  1.  1.  5.  0.  0.  2.  1.  0.  2.  5.  0.]\n",
      " [ 1.  2.  2.  1.  0.  3.  5.  5.  5.  1.  0.  3.  0.  5.  5.]\n",
      " [ 0.  2.  0.  1.  3.  0.  2.  2.  1.  5.  0.  0.  2.  5. 10.]\n",
      " [ 1.  2.  2.  5.  5.  2.  0.  6.  0.  1.  5.  5.  5.  1.  0.]\n",
      " [ 2.  3.  5.  0.  5.  2.  6.  0.  5.  2. 10.  0.  5.  0.  0.]\n",
      " [ 2.  2.  4.  0.  5.  1.  0.  5.  0.  0. 10.  5. 10.  0.  2.]\n",
      " [ 2.  0.  5.  2.  1.  5.  1.  2.  0.  0.  0.  4.  0.  0.  5.]\n",
      " [ 2.  2.  2.  1.  0.  0.  5. 10. 10.  0.  0.  5.  0.  5.  0.]\n",
      " [ 0.  0.  2.  0.  3.  0.  5.  0.  5.  4.  5.  0.  3.  3.  0.]\n",
      " [ 4. 10.  5.  2.  0.  2.  5.  5. 10.  0.  0.  3.  0. 10.  2.]\n",
      " [ 0.  5.  5.  5.  5.  5.  1.  0.  0.  0.  5.  3. 10.  0.  4.]\n",
      " [ 0.  0.  5.  0.  5. 10.  0.  0.  2.  5.  0.  0.  2.  4.  0.]]\n"
     ]
    }
   ],
   "source": [
    "n, A, B = read_data('http://anjos.mgi.polymtl.ca/qaplib/data.d/nug15.dat')"
   ]
  },
  {
   "cell_type": "code",
   "execution_count": 60,
   "metadata": {},
   "outputs": [
    {
     "name": "stdout",
     "output_type": "stream",
     "text": [
      "1150.0 [0, 1, 12, 7, 8, 3, 2, 13, 6, 10, 9, 14, 5, 4, 11]\n"
     ]
    }
   ],
   "source": [
    "p = [0, 1, 12, 7, 8, 3, 2, 13, 6, 10, 9, 14, 5, 4, 11]\n",
    "print(qap_objective_function(p), p)"
   ]
  },
  {
   "cell_type": "code",
   "execution_count": 61,
   "metadata": {},
   "outputs": [
    {
     "name": "stdout",
     "output_type": "stream",
     "text": [
      "53.397709608078 1150.0\n"
     ]
    }
   ],
   "source": [
    "costs = simulated_annaling(n)"
   ]
  },
  {
   "cell_type": "code",
   "execution_count": 62,
   "metadata": {},
   "outputs": [
    {
     "data": {
      "image/png": "[encoded data removed]",
      "text/plain": [
       "<Figure size 432x288 with 1 Axes>"
      ]
     },
     "metadata": {
      "needs_background": "light"
     },
     "output_type": "display_data"
    }
   ],
   "source": [
    "plt.figure()\n",
    "plt.plot(costs)\n",
    "plt.show()"
   ]
  },
  {
   "cell_type": "code",
   "execution_count": 476,
   "metadata": {},
   "outputs": [
    {
     "name": "stdout",
     "output_type": "stream",
     "text": [
      "Problem size: 17\n",
      "Flow matrix:\n",
      " [[0. 1. 2. 3. 4. 1. 2. 3. 4. 5. 2. 3. 4. 5. 6. 3. 4.]\n",
      " [1. 0. 1. 2. 3. 2. 1. 2. 3. 4. 3. 2. 3. 4. 5. 4. 3.]\n",
      " [2. 1. 0. 1. 2. 3. 2. 1. 2. 3. 4. 3. 2. 3. 4. 5. 4.]\n",
      " [3. 2. 1. 0. 1. 4. 3. 2. 1. 2. 5. 4. 3. 2. 3. 6. 5.]\n",
      " [4. 3. 2. 1. 0. 5. 4. 3. 2. 1. 6. 5. 4. 3. 2. 7. 6.]\n",
      " [1. 2. 3. 4. 5. 0. 1. 2. 3. 4. 1. 2. 3. 4. 5. 2. 3.]\n",
      " [2. 1. 2. 3. 4. 1. 0. 1. 2. 3. 2. 1. 2. 3. 4. 3. 2.]\n",
      " [3. 2. 1. 2. 3. 2. 1. 0. 1. 2. 3. 2. 1. 2. 3. 4. 3.]\n",
      " [4. 3. 2. 1. 2. 3. 2. 1. 0. 1. 4. 3. 2. 1. 2. 5. 4.]\n",
      " [5. 4. 3. 2. 1. 4. 3. 2. 1. 0. 5. 4. 3. 2. 1. 6. 5.]\n",
      " [2. 3. 4. 5. 6. 1. 2. 3. 4. 5. 0. 1. 2. 3. 4. 1. 2.]\n",
      " [3. 2. 3. 4. 5. 2. 1. 2. 3. 4. 1. 0. 1. 2. 3. 2. 1.]\n",
      " [4. 3. 2. 3. 4. 3. 2. 1. 2. 3. 2. 1. 0. 1. 2. 3. 2.]\n",
      " [5. 4. 3. 2. 3. 4. 3. 2. 1. 2. 3. 2. 1. 0. 1. 4. 3.]\n",
      " [6. 5. 4. 3. 2. 5. 4. 3. 2. 1. 4. 3. 2. 1. 0. 5. 4.]\n",
      " [3. 4. 5. 6. 7. 2. 3. 4. 5. 6. 1. 2. 3. 4. 5. 0. 1.]\n",
      " [4. 3. 4. 5. 6. 3. 2. 3. 4. 5. 2. 1. 2. 3. 4. 1. 0.]]\n",
      "Distance matrix:\n",
      " [[ 0.  0.  5.  0.  5.  2. 10.  3.  1.  5.  5.  5.  0.  0.  5.  4.  4.]\n",
      " [ 0.  0.  3. 10.  5.  1.  5.  1.  2.  4.  2.  5.  0. 10. 10.  3.  0.]\n",
      " [ 5.  3.  0.  2.  0.  5.  2.  4.  4.  5.  0.  0.  0.  5.  1.  0.  0.]\n",
      " [ 0. 10.  2.  0.  1.  0.  5.  2.  1.  0. 10.  2.  2.  0.  2.  1.  5.]\n",
      " [ 5.  5.  0.  1.  0.  5.  6.  5.  2.  5.  2.  0.  5.  1.  1.  1.  5.]\n",
      " [ 2.  1.  5.  0.  5.  0.  5.  2.  1.  6.  0.  0. 10.  0.  2.  0.  1.]\n",
      " [10.  5.  2.  5.  6.  5.  0.  0.  0.  0.  5. 10.  2.  2.  5.  1.  2.]\n",
      " [ 3.  1.  4.  2.  5.  2.  0.  0.  1.  1. 10. 10.  2.  0. 10.  2.  5.]\n",
      " [ 1.  2.  4.  1.  2.  1.  0.  1.  0.  2.  0.  3.  5.  5.  0.  5.  0.]\n",
      " [ 5.  4.  5.  0.  5.  6.  0.  1.  2.  0.  5.  5.  0.  5.  1.  0.  0.]\n",
      " [ 5.  2.  0. 10.  2.  0.  5. 10.  0.  5.  0.  5.  2.  5.  1. 10.  0.]\n",
      " [ 5.  5.  0.  2.  0.  0. 10. 10.  3.  5.  5.  0.  2. 10.  5.  0.  1.]\n",
      " [ 0.  0.  0.  2.  5. 10.  2.  2.  5.  0.  2.  2.  0.  2.  2.  1.  0.]\n",
      " [ 0. 10.  5.  0.  1.  0.  2.  0.  5.  5.  5. 10.  2.  0.  5.  5.  1.]\n",
      " [ 5. 10.  1.  2.  1.  2.  5. 10.  0.  1.  1.  5.  2.  5.  0.  3.  0.]\n",
      " [ 4.  3.  0.  1.  1.  0.  1.  2.  5.  0. 10.  0.  1.  5.  3.  0.  0.]\n",
      " [ 4.  0.  0.  5.  5.  1.  2.  5.  0.  0.  0.  1.  0.  1.  0.  0.  0.]]\n"
     ]
    }
   ],
   "source": [
    "n, A, B = read_data('http://anjos.mgi.polymtl.ca/qaplib/data.d/nug17.dat')"
   ]
  },
  {
   "cell_type": "code",
   "execution_count": 477,
   "metadata": {},
   "outputs": [
    {
     "name": "stdout",
     "output_type": "stream",
     "text": [
      "1732.0 [15, 14, 1, 13, 8, 10, 7, 11, 9, 2, 3, 0, 6, 5, 12, 16, 4]\n"
     ]
    }
   ],
   "source": [
    "p = [ x - 1 for x in [16,15,2,14,9,11,8,12,10,3,4,1,7,6,13,17,5]]\n",
    "print(qap_objective_function(p), p)"
   ]
  },
  {
   "cell_type": "code",
   "execution_count": 495,
   "metadata": {},
   "outputs": [
    {
     "name": "stdout",
     "output_type": "stream",
     "text": [
      "310.2268524169922 1742.0\n"
     ]
    }
   ],
   "source": [
    "costs, _ = simulated_annaling(n, radius=3, alpha=1.2, T=2000000)"
   ]
  },
  {
   "cell_type": "code",
   "execution_count": 494,
   "metadata": {},
   "outputs": [
    {
     "data": {
      "image/png": "[encoded data removed]",
      "text/plain": [
       "<Figure size 432x288 with 1 Axes>"
      ]
     },
     "metadata": {
      "needs_background": "light"
     },
     "output_type": "display_data"
    }
   ],
   "source": [
    "plt.figure()\n",
    "plt.plot(costs)\n",
    "plt.show()"
   ]
  },
  {
   "cell_type": "code",
   "execution_count": 85,
   "metadata": {},
   "outputs": [
    {
     "name": "stdout",
     "output_type": "stream",
     "text": [
      "Problem size: 20\n",
      "Flow matrix:\n",
      " [[0. 1. 2. 3. 4. 1. 2. 3. 4. 5. 2. 3. 4. 5. 6. 3. 4. 5. 6. 7.]\n",
      " [1. 0. 1. 2. 3. 2. 1. 2. 3. 4. 3. 2. 3. 4. 5. 4. 3. 4. 5. 6.]\n",
      " [2. 1. 0. 1. 2. 3. 2. 1. 2. 3. 4. 3. 2. 3. 4. 5. 4. 3. 4. 5.]\n",
      " [3. 2. 1. 0. 1. 4. 3. 2. 1. 2. 5. 4. 3. 2. 3. 6. 5. 4. 3. 4.]\n",
      " [4. 3. 2. 1. 0. 5. 4. 3. 2. 1. 6. 5. 4. 3. 2. 7. 6. 5. 4. 3.]\n",
      " [1. 2. 3. 4. 5. 0. 1. 2. 3. 4. 1. 2. 3. 4. 5. 2. 3. 4. 5. 6.]\n",
      " [2. 1. 2. 3. 4. 1. 0. 1. 2. 3. 2. 1. 2. 3. 4. 3. 2. 3. 4. 5.]\n",
      " [3. 2. 1. 2. 3. 2. 1. 0. 1. 2. 3. 2. 1. 2. 3. 4. 3. 2. 3. 4.]\n",
      " [4. 3. 2. 1. 2. 3. 2. 1. 0. 1. 4. 3. 2. 1. 2. 5. 4. 3. 2. 3.]\n",
      " [5. 4. 3. 2. 1. 4. 3. 2. 1. 0. 5. 4. 3. 2. 1. 6. 5. 4. 3. 2.]\n",
      " [2. 3. 4. 5. 6. 1. 2. 3. 4. 5. 0. 1. 2. 3. 4. 1. 2. 3. 4. 5.]\n",
      " [3. 2. 3. 4. 5. 2. 1. 2. 3. 4. 1. 0. 1. 2. 3. 2. 1. 2. 3. 4.]\n",
      " [4. 3. 2. 3. 4. 3. 2. 1. 2. 3. 2. 1. 0. 1. 2. 3. 2. 1. 2. 3.]\n",
      " [5. 4. 3. 2. 3. 4. 3. 2. 1. 2. 3. 2. 1. 0. 1. 4. 3. 2. 1. 2.]\n",
      " [6. 5. 4. 3. 2. 5. 4. 3. 2. 1. 4. 3. 2. 1. 0. 5. 4. 3. 2. 1.]\n",
      " [3. 4. 5. 6. 7. 2. 3. 4. 5. 6. 1. 2. 3. 4. 5. 0. 1. 2. 3. 4.]\n",
      " [4. 3. 4. 5. 6. 3. 2. 3. 4. 5. 2. 1. 2. 3. 4. 1. 0. 1. 2. 3.]\n",
      " [5. 4. 3. 4. 5. 4. 3. 2. 3. 4. 3. 2. 1. 2. 3. 2. 1. 0. 1. 2.]\n",
      " [6. 5. 4. 3. 4. 5. 4. 3. 2. 3. 4. 3. 2. 1. 2. 3. 2. 1. 0. 1.]\n",
      " [7. 6. 5. 4. 3. 6. 5. 4. 3. 2. 5. 4. 3. 2. 1. 4. 3. 2. 1. 0.]]\n",
      "Distance matrix:\n",
      " [[ 0.  0.  5.  0.  5.  2. 10.  3.  1.  5.  5.  5.  0.  0.  5.  4.  4.  0.\n",
      "   0.  1.]\n",
      " [ 0.  0.  3. 10.  5.  1.  5.  1.  2.  4.  2.  5.  0. 10. 10.  3.  0.  5.\n",
      "  10.  5.]\n",
      " [ 5.  3.  0.  2.  0.  5.  2.  4.  4.  5.  0.  0.  0.  5.  1.  0.  0.  5.\n",
      "   0.  0.]\n",
      " [ 0. 10.  2.  0.  1.  0.  5.  2.  1.  0. 10.  2.  2.  0.  2.  1.  5.  2.\n",
      "   5.  5.]\n",
      " [ 5.  5.  0.  1.  0.  5.  6.  5.  2.  5.  2.  0.  5.  1.  1.  1.  5.  2.\n",
      "   5.  1.]\n",
      " [ 2.  1.  5.  0.  5.  0.  5.  2.  1.  6.  0.  0. 10.  0.  2.  0.  1.  0.\n",
      "   1.  5.]\n",
      " [10.  5.  2.  5.  6.  5.  0.  0.  0.  0.  5. 10.  2.  2.  5.  1.  2.  1.\n",
      "   0. 10.]\n",
      " [ 3.  1.  4.  2.  5.  2.  0.  0.  1.  1. 10. 10.  2.  0. 10.  2.  5.  2.\n",
      "   2. 10.]\n",
      " [ 1.  2.  4.  1.  2.  1.  0.  1.  0.  2.  0.  3.  5.  5.  0.  5.  0.  0.\n",
      "   0.  2.]\n",
      " [ 5.  4.  5.  0.  5.  6.  0.  1.  2.  0.  5.  5.  0.  5.  1.  0.  0.  5.\n",
      "   5.  2.]\n",
      " [ 5.  2.  0. 10.  2.  0.  5. 10.  0.  5.  0.  5.  2.  5.  1. 10.  0.  2.\n",
      "   2.  5.]\n",
      " [ 5.  5.  0.  2.  0.  0. 10. 10.  3.  5.  5.  0.  2. 10.  5.  0.  1.  1.\n",
      "   2.  5.]\n",
      " [ 0.  0.  0.  2.  5. 10.  2.  2.  5.  0.  2.  2.  0.  2.  2.  1.  0.  0.\n",
      "   0.  5.]\n",
      " [ 0. 10.  5.  0.  1.  0.  2.  0.  5.  5.  5. 10.  2.  0.  5.  5.  1.  5.\n",
      "   5.  0.]\n",
      " [ 5. 10.  1.  2.  1.  2.  5. 10.  0.  1.  1.  5.  2.  5.  0.  3.  0.  5.\n",
      "  10. 10.]\n",
      " [ 4.  3.  0.  1.  1.  0.  1.  2.  5.  0. 10.  0.  1.  5.  3.  0.  0.  0.\n",
      "   2.  0.]\n",
      " [ 4.  0.  0.  5.  5.  1.  2.  5.  0.  0.  0.  1.  0.  1.  0.  0.  0.  5.\n",
      "   2.  0.]\n",
      " [ 0.  5.  5.  2.  2.  0.  1.  2.  0.  5.  2.  1.  0.  5.  5.  0.  5.  0.\n",
      "   1.  1.]\n",
      " [ 0. 10.  0.  5.  5.  1.  0.  2.  0.  5.  2.  2.  0.  5. 10.  2.  2.  1.\n",
      "   0.  6.]\n",
      " [ 1.  5.  0.  5.  1.  5. 10. 10.  2.  2.  5.  5.  5.  0. 10.  0.  0.  1.\n",
      "   6.  0.]]\n"
     ]
    }
   ],
   "source": [
    "n, A, B = read_data('http://anjos.mgi.polymtl.ca/qaplib/data.d/nug20.dat')"
   ]
  },
  {
   "cell_type": "code",
   "execution_count": 86,
   "metadata": {},
   "outputs": [
    {
     "name": "stdout",
     "output_type": "stream",
     "text": [
      "2570.0 [17, 13, 9, 2, 8, 3, 1, 11, 10, 15, 18, 14, 19, 7, 12, 16, 4, 6, 0, 5]\n"
     ]
    }
   ],
   "source": [
    "p = [ x - 1 for x in [18,14,10,3,9,4,2,12,11,16,19,15,20,8,13,17,5,7,1,6]]\n",
    "print(qap_objective_function(p), p)"
   ]
  },
  {
   "cell_type": "code",
   "execution_count": 481,
   "metadata": {},
   "outputs": [
    {
     "name": "stdout",
     "output_type": "stream",
     "text": [
      "68.58410453796387 1768.0\n"
     ]
    }
   ],
   "source": [
    "costs = simulated_annaling(n, radius=2, alpha=1.2)"
   ]
  },
  {
   "cell_type": "code",
   "execution_count": 88,
   "metadata": {},
   "outputs": [
    {
     "data": {
      "image/png": "[encoded data removed]",
      "text/plain": [
       "<Figure size 432x288 with 1 Axes>"
      ]
     },
     "metadata": {
      "needs_background": "light"
     },
     "output_type": "display_data"
    }
   ],
   "source": [
    "plt.figure()\n",
    "plt.plot(costs)\n",
    "plt.show()"
   ]
  },
  {
   "cell_type": "markdown",
   "metadata": {},
   "source": [
    "## zad1 b)"
   ]
  },
  {
   "cell_type": "code",
   "execution_count": 177,
   "metadata": {},
   "outputs": [
    {
     "name": "stdout",
     "output_type": "stream",
     "text": [
      "Problem size: 15\n",
      "Flow matrix:\n",
      " [[0. 1. 2. 3. 4. 1. 2. 3. 4. 5. 2. 3. 4. 5. 6.]\n",
      " [1. 0. 1. 2. 3. 2. 1. 2. 3. 4. 3. 2. 3. 4. 5.]\n",
      " [2. 1. 0. 1. 2. 3. 2. 1. 2. 3. 4. 3. 2. 3. 4.]\n",
      " [3. 2. 1. 0. 1. 4. 3. 2. 1. 2. 5. 4. 3. 2. 3.]\n",
      " [4. 3. 2. 1. 0. 5. 4. 3. 2. 1. 6. 5. 4. 3. 2.]\n",
      " [1. 2. 3. 4. 5. 0. 1. 2. 3. 4. 1. 2. 3. 4. 5.]\n",
      " [2. 1. 2. 3. 4. 1. 0. 1. 2. 3. 2. 1. 2. 3. 4.]\n",
      " [3. 2. 1. 2. 3. 2. 1. 0. 1. 2. 3. 2. 1. 2. 3.]\n",
      " [4. 3. 2. 1. 2. 3. 2. 1. 0. 1. 4. 3. 2. 1. 2.]\n",
      " [5. 4. 3. 2. 1. 4. 3. 2. 1. 0. 5. 4. 3. 2. 1.]\n",
      " [2. 3. 4. 5. 6. 1. 2. 3. 4. 5. 0. 1. 2. 3. 4.]\n",
      " [3. 2. 3. 4. 5. 2. 1. 2. 3. 4. 1. 0. 1. 2. 3.]\n",
      " [4. 3. 2. 3. 4. 3. 2. 1. 2. 3. 2. 1. 0. 1. 2.]\n",
      " [5. 4. 3. 2. 3. 4. 3. 2. 1. 2. 3. 2. 1. 0. 1.]\n",
      " [6. 5. 4. 3. 2. 5. 4. 3. 2. 1. 4. 3. 2. 1. 0.]]\n",
      "Distance matrix:\n",
      " [[ 0. 10.  0.  5.  1.  0.  1.  2.  2.  2.  2.  0.  4.  0.  0.]\n",
      " [10.  0.  1.  3.  2.  2.  2.  3.  2.  0.  2.  0. 10.  5.  0.]\n",
      " [ 0.  1.  0. 10.  2.  0.  2.  5.  4.  5.  2.  2.  5.  5.  5.]\n",
      " [ 5.  3. 10.  0.  1.  1.  5.  0.  0.  2.  1.  0.  2.  5.  0.]\n",
      " [ 1.  2.  2.  1.  0.  3.  5.  5.  5.  1.  0.  3.  0.  5.  5.]\n",
      " [ 0.  2.  0.  1.  3.  0.  2.  2.  1.  5.  0.  0.  2.  5. 10.]\n",
      " [ 1.  2.  2.  5.  5.  2.  0.  6.  0.  1.  5.  5.  5.  1.  0.]\n",
      " [ 2.  3.  5.  0.  5.  2.  6.  0.  5.  2. 10.  0.  5.  0.  0.]\n",
      " [ 2.  2.  4.  0.  5.  1.  0.  5.  0.  0. 10.  5. 10.  0.  2.]\n",
      " [ 2.  0.  5.  2.  1.  5.  1.  2.  0.  0.  0.  4.  0.  0.  5.]\n",
      " [ 2.  2.  2.  1.  0.  0.  5. 10. 10.  0.  0.  5.  0.  5.  0.]\n",
      " [ 0.  0.  2.  0.  3.  0.  5.  0.  5.  4.  5.  0.  3.  3.  0.]\n",
      " [ 4. 10.  5.  2.  0.  2.  5.  5. 10.  0.  0.  3.  0. 10.  2.]\n",
      " [ 0.  5.  5.  5.  5.  5.  1.  0.  0.  0.  5.  3. 10.  0.  4.]\n",
      " [ 0.  0.  5.  0.  5. 10.  0.  0.  2.  5.  0.  0.  2.  4.  0.]]\n",
      "38.61042928695679 1178.0\n",
      "38.73512005805969 1206.0\n",
      "38.54293394088745 1196.0\n",
      "38.35446834564209 1190.0\n",
      "38.493630170822144 1178.0\n",
      "38.65410923957825 1192.0\n",
      "38.53260540962219 1176.0\n",
      "38.61189341545105 1190.0\n",
      "38.68168115615845 1174.0\n",
      "38.743239641189575 1198.0\n",
      "38.65524196624756 1178.0\n",
      "38.9513463973999 1198.0\n",
      "38.416396617889404 1160.0\n",
      "38.38165235519409 1194.0\n",
      "38.66868710517883 1186.0\n",
      "38.69476914405823 1178.0\n",
      "38.39077401161194 1196.0\n",
      "38.85344409942627 1164.0\n",
      "38.581218242645264 1196.0\n",
      "38.599684953689575 1202.0\n",
      "38.78075647354126 1190.0\n",
      "38.589261531829834 1180.0\n",
      "38.6133508682251 1198.0\n",
      "38.593661069869995 1172.0\n",
      "38.55798840522766 1198.0\n",
      "38.56868577003479 1184.0\n",
      "38.41011452674866 1174.0\n",
      "38.573073625564575 1202.0\n",
      "38.64658975601196 1206.0\n",
      "38.99312376976013 1186.0\n",
      "38.588077545166016 1210.0\n",
      "38.553842067718506 1182.0\n",
      "38.5837721824646 1188.0\n",
      "38.510005474090576 1172.0\n",
      "38.430336475372314 1174.0\n",
      "38.42901659011841 1160.0\n",
      "38.66899752616882 1182.0\n",
      "38.52992820739746 1158.0\n",
      "38.599894285202026 1210.0\n",
      "38.465476751327515 1166.0\n",
      "38.43119263648987 1202.0\n",
      "38.555336713790894 1192.0\n",
      "38.47998523712158 1206.0\n",
      "38.17768478393555 1174.0\n",
      "38.36758589744568 1182.0\n",
      "38.610881090164185 1184.0\n",
      "38.47455382347107 1196.0\n",
      "38.653984785079956 1174.0\n",
      "38.68945837020874 1192.0\n",
      "38.535557985305786 1210.0\n",
      "38.88956093788147 1180.0\n",
      "38.92908477783203 1188.0\n",
      "38.855496406555176 1190.0\n",
      "38.5518798828125 1164.0\n",
      "39.0027117729187 1196.0\n",
      "38.620108127593994 1166.0\n",
      "38.74672603607178 1202.0\n",
      "38.79832410812378 1182.0\n",
      "39.05149745941162 1182.0\n",
      "38.77941179275513 1186.0\n",
      "38.50271415710449 1176.0\n",
      "38.44867563247681 1180.0\n",
      "38.5639910697937 1188.0\n",
      "38.4545202255249 1184.0\n",
      "38.68733501434326 1196.0\n",
      "38.63320541381836 1184.0\n",
      "38.53468656539917 1160.0\n",
      "38.70313620567322 1200.0\n",
      "38.55421805381775 1196.0\n",
      "38.55942749977112 1194.0\n",
      "38.52770638465881 1176.0\n",
      "38.41311955451965 1194.0\n",
      "38.65444874763489 1188.0\n",
      "38.58232545852661 1186.0\n",
      "38.60033345222473 1188.0\n",
      "38.615185022354126 1180.0\n",
      "38.54192495346069 1166.0\n",
      "38.761696577072144 1196.0\n",
      "39.29583811759949 1182.0\n",
      "38.529876947402954 1168.0\n",
      "38.65679693222046 1190.0\n",
      "38.417293548583984 1182.0\n",
      "38.37661671638489 1180.0\n",
      "38.52656006813049 1160.0\n",
      "38.66306257247925 1172.0\n",
      "38.63579702377319 1188.0\n",
      "38.5039918422699 1188.0\n",
      "38.5021858215332 1200.0\n",
      "38.518747329711914 1206.0\n",
      "38.43251299858093 1198.0\n",
      "38.506699085235596 1182.0\n",
      "38.66666865348816 1178.0\n",
      "38.532368659973145 1204.0\n",
      "38.3862407207489 1182.0\n",
      "38.4937789440155 1202.0\n",
      "38.37444567680359 1192.0\n",
      "38.412447929382324 1190.0\n",
      "38.453601121902466 1196.0\n",
      "38.60904669761658 1186.0\n",
      "38.63462829589844 1178.0\n",
      "38.51127862930298 1192.0\n",
      "38.638736724853516 1174.0\n",
      "38.51899981498718 1188.0\n",
      "38.70957851409912 1180.0\n",
      "38.62531518936157 1178.0\n",
      "38.60180139541626 1166.0\n",
      "38.630428075790405 1160.0\n",
      "38.532180309295654 1190.0\n",
      "38.64643430709839 1208.0\n",
      "38.38176870346069 1160.0\n",
      "38.583909034729004 1200.0\n",
      "38.539961099624634 1204.0\n",
      "38.34992074966431 1184.0\n",
      "38.483497619628906 1186.0\n",
      "38.69199562072754 1190.0\n",
      "38.422521352767944 1200.0\n",
      "38.66936635971069 1180.0\n",
      "38.58832573890686 1178.0\n",
      "38.48586392402649 1202.0\n",
      "38.57323932647705 1180.0\n",
      "38.52557015419006 1194.0\n",
      "38.42362022399902 1190.0\n",
      "38.448513984680176 1178.0\n",
      "38.39019775390625 1184.0\n",
      "38.319380044937134 1180.0\n",
      "38.366109132766724 1196.0\n",
      "38.503639936447144 1192.0\n",
      "38.37525725364685 1190.0\n",
      "38.368321895599365 1184.0\n",
      "38.4209246635437 1162.0\n",
      "38.54982137680054 1182.0\n",
      "38.292866706848145 1170.0\n",
      "38.634647846221924 1184.0\n",
      "38.35447311401367 1176.0\n",
      "38.4253203868866 1188.0\n",
      "38.345032930374146 1188.0\n",
      "38.4706711769104 1184.0\n",
      "38.42034864425659 1200.0\n",
      "38.41133952140808 1188.0\n",
      "38.42897081375122 1196.0\n",
      "38.518588066101074 1196.0\n",
      "38.88349509239197 1202.0\n",
      "38.42696690559387 1184.0\n",
      "38.63363313674927 1190.0\n",
      "38.49077105522156 1164.0\n",
      "38.524088621139526 1182.0\n",
      "38.40288758277893 1166.0\n",
      "38.52178621292114 1196.0\n",
      "38.65568518638611 1200.0\n",
      "38.458167552948 1202.0\n",
      "38.54546523094177 1190.0\n",
      "38.46303415298462 1202.0\n",
      "38.32461619377136 1180.0\n",
      "38.83593559265137 1198.0\n",
      "38.81766867637634 1192.0\n",
      "38.77245855331421 1190.0\n",
      "38.673504114151 1174.0\n",
      "38.61989068984985 1178.0\n",
      "38.404414653778076 1182.0\n",
      "38.53480052947998 1186.0\n",
      "38.43686509132385 1166.0\n",
      "38.37177395820618 1196.0\n",
      "38.32003045082092 1184.0\n",
      "38.456815004348755 1198.0\n",
      "38.63218593597412 1166.0\n",
      "38.52215576171875 1188.0\n",
      "38.52071690559387 1194.0\n",
      "38.47193908691406 1190.0\n",
      "38.468398571014404 1172.0\n",
      "38.50916409492493 1168.0\n",
      "38.459619998931885 1190.0\n",
      "38.61611247062683 1194.0\n",
      "39.16163682937622 1194.0\n",
      "38.45897316932678 1178.0\n",
      "38.629136085510254 1174.0\n",
      "38.52687335014343 1198.0\n",
      "38.535425662994385 1200.0\n",
      "38.677462577819824 1190.0\n",
      "38.51048541069031 1216.0\n",
      "38.56397819519043 1186.0\n",
      "38.359464168548584 1188.0\n",
      "38.56974697113037 1174.0\n",
      "38.576908111572266 1180.0\n",
      "38.544275522232056 1204.0\n",
      "38.55435657501221 1186.0\n",
      "38.516438007354736 1184.0\n",
      "38.43468713760376 1188.0\n",
      "38.470707416534424 1164.0\n",
      "38.580687046051025 1194.0\n",
      "38.485058307647705 1180.0\n",
      "38.512720584869385 1182.0\n",
      "38.63308358192444 1188.0\n",
      "38.759811878204346 1202.0\n",
      "38.61250948905945 1180.0\n",
      "38.5926194190979 1190.0\n",
      "38.54377317428589 1190.0\n",
      "38.76258611679077 1194.0\n",
      "38.451639890670776 1194.0\n",
      "38.32801842689514 1188.0\n",
      "38.53011918067932 1178.0\n",
      "7712.436581134796\n",
      "1158.0 [ 8  7 12  1  0 10  6 13  2  3 11  4 14  5  9]\n"
     ]
    }
   ],
   "source": [
    "n, A, B = read_data('http://anjos.mgi.polymtl.ca/qaplib/data.d/nug15.dat')\n",
    "\n",
    "t0 = time.time()\n",
    "\n",
    "T = 200\n",
    "\n",
    "results = np.empty((T, n), dtype=np.int64)\n",
    "costs = np.zeros(T)\n",
    "for i in range(T):\n",
    "    _, results[i, :] = simulated_annaling(n, radius=6, alpha=1.4, T=200000)\n",
    "    costs[i] = qap_objective_function(results[i, :])\n",
    "\n",
    "print(time.time() - t0)\n",
    "\n",
    "p = results[costs.argmin(), :]\n",
    "print(qap_objective_function(p), p)"
   ]
  },
  {
   "cell_type": "code",
   "execution_count": 178,
   "metadata": {
    "scrolled": true
   },
   "outputs": [
    {
     "data": {
      "image/png": "[encoded data removed]",
      "text/plain": [
       "<Figure size 432x288 with 1 Axes>"
      ]
     },
     "metadata": {
      "needs_background": "light"
     },
     "output_type": "display_data"
    },
    {
     "name": "stdout",
     "output_type": "stream",
     "text": [
      "1186.25 11.988223387975385\n"
     ]
    }
   ],
   "source": [
    "plt.figure()\n",
    "plt.hist(costs, bins=10)\n",
    "plt.show()\n",
    "\n",
    "print(costs.mean(), costs.std())"
   ]
  },
  {
   "cell_type": "markdown",
   "metadata": {},
   "source": [
    "## zad1 c)"
   ]
  },
  {
   "cell_type": "code",
   "execution_count": 114,
   "metadata": {},
   "outputs": [
    {
     "name": "stdout",
     "output_type": "stream",
     "text": [
      "Problem size: 15\n",
      "Flow matrix:\n",
      " [[0. 1. 2. 3. 4. 1. 2. 3. 4. 5. 2. 3. 4. 5. 6.]\n",
      " [1. 0. 1. 2. 3. 2. 1. 2. 3. 4. 3. 2. 3. 4. 5.]\n",
      " [2. 1. 0. 1. 2. 3. 2. 1. 2. 3. 4. 3. 2. 3. 4.]\n",
      " [3. 2. 1. 0. 1. 4. 3. 2. 1. 2. 5. 4. 3. 2. 3.]\n",
      " [4. 3. 2. 1. 0. 5. 4. 3. 2. 1. 6. 5. 4. 3. 2.]\n",
      " [1. 2. 3. 4. 5. 0. 1. 2. 3. 4. 1. 2. 3. 4. 5.]\n",
      " [2. 1. 2. 3. 4. 1. 0. 1. 2. 3. 2. 1. 2. 3. 4.]\n",
      " [3. 2. 1. 2. 3. 2. 1. 0. 1. 2. 3. 2. 1. 2. 3.]\n",
      " [4. 3. 2. 1. 2. 3. 2. 1. 0. 1. 4. 3. 2. 1. 2.]\n",
      " [5. 4. 3. 2. 1. 4. 3. 2. 1. 0. 5. 4. 3. 2. 1.]\n",
      " [2. 3. 4. 5. 6. 1. 2. 3. 4. 5. 0. 1. 2. 3. 4.]\n",
      " [3. 2. 3. 4. 5. 2. 1. 2. 3. 4. 1. 0. 1. 2. 3.]\n",
      " [4. 3. 2. 3. 4. 3. 2. 1. 2. 3. 2. 1. 0. 1. 2.]\n",
      " [5. 4. 3. 2. 3. 4. 3. 2. 1. 2. 3. 2. 1. 0. 1.]\n",
      " [6. 5. 4. 3. 2. 5. 4. 3. 2. 1. 4. 3. 2. 1. 0.]]\n",
      "Distance matrix:\n",
      " [[ 0. 10.  0.  5.  1.  0.  1.  2.  2.  2.  2.  0.  4.  0.  0.]\n",
      " [10.  0.  1.  3.  2.  2.  2.  3.  2.  0.  2.  0. 10.  5.  0.]\n",
      " [ 0.  1.  0. 10.  2.  0.  2.  5.  4.  5.  2.  2.  5.  5.  5.]\n",
      " [ 5.  3. 10.  0.  1.  1.  5.  0.  0.  2.  1.  0.  2.  5.  0.]\n",
      " [ 1.  2.  2.  1.  0.  3.  5.  5.  5.  1.  0.  3.  0.  5.  5.]\n",
      " [ 0.  2.  0.  1.  3.  0.  2.  2.  1.  5.  0.  0.  2.  5. 10.]\n",
      " [ 1.  2.  2.  5.  5.  2.  0.  6.  0.  1.  5.  5.  5.  1.  0.]\n",
      " [ 2.  3.  5.  0.  5.  2.  6.  0.  5.  2. 10.  0.  5.  0.  0.]\n",
      " [ 2.  2.  4.  0.  5.  1.  0.  5.  0.  0. 10.  5. 10.  0.  2.]\n",
      " [ 2.  0.  5.  2.  1.  5.  1.  2.  0.  0.  0.  4.  0.  0.  5.]\n",
      " [ 2.  2.  2.  1.  0.  0.  5. 10. 10.  0.  0.  5.  0.  5.  0.]\n",
      " [ 0.  0.  2.  0.  3.  0.  5.  0.  5.  4.  5.  0.  3.  3.  0.]\n",
      " [ 4. 10.  5.  2.  0.  2.  5.  5. 10.  0.  0.  3.  0. 10.  2.]\n",
      " [ 0.  5.  5.  5.  5.  5.  1.  0.  0.  0.  5.  3. 10.  0.  4.]\n",
      " [ 0.  0.  5.  0.  5. 10.  0.  0.  2.  5.  0.  0.  2.  4.  0.]]\n"
     ]
    }
   ],
   "source": [
    "n, A, B = read_data('http://anjos.mgi.polymtl.ca/qaplib/data.d/nug15.dat')\n",
    "\n",
    "def simulated_annaling_c(n, T=500000, radius=1, alpha=1.0):\n",
    "    t0 = time.time()\n",
    "\n",
    "    p = np.random.permutation(n)\n",
    "    p_cost = qap_objective_function(p)\n",
    "    costs = np.zeros(T)\n",
    "    succ = np.zeros(T // 1000)\n",
    "    for t in range(T):\n",
    "        q = random_neighbor(p, radius)\n",
    "        q_cost = qap_objective_function(q)\n",
    "        if(q_cost < p_cost):\n",
    "            succ[t // 1000] += 1\n",
    "            p, p_cost = q, q_cost\n",
    "        elif(np.random.rand() < np.exp(- alpha * (q_cost - p_cost) * t/T)):\n",
    "            p, p_cost = q, q_cost\n",
    "            succ[t // 1000] += 1\n",
    "        costs[t] = p_cost\n",
    "\n",
    "    print(time.time() - t0, costs.min())\n",
    "    return costs, succ"
   ]
  },
  {
   "cell_type": "code",
   "execution_count": 115,
   "metadata": {},
   "outputs": [
    {
     "name": "stdout",
     "output_type": "stream",
     "text": [
      "42.93378210067749 1150.0\n"
     ]
    },
    {
     "data": {
      "image/png": "[encoded data removed]",
      "text/plain": [
       "<Figure size 432x288 with 1 Axes>"
      ]
     },
     "metadata": {
      "needs_background": "light"
     },
     "output_type": "display_data"
    }
   ],
   "source": [
    "_, succ = simulated_annaling_c(n, radius=1, alpha=1.0, T=400000)\n",
    "plt.figure()\n",
    "plt.plot(succ)\n",
    "plt.show()"
   ]
  },
  {
   "cell_type": "code",
   "execution_count": 116,
   "metadata": {},
   "outputs": [
    {
     "name": "stdout",
     "output_type": "stream",
     "text": [
      "63.344176054000854 1170.0\n"
     ]
    },
    {
     "data": {
      "image/png": "[encoded data removed]",
      "text/plain": [
       "<Figure size 432x288 with 1 Axes>"
      ]
     },
     "metadata": {
      "needs_background": "light"
     },
     "output_type": "display_data"
    }
   ],
   "source": [
    "_, succ = simulated_annaling_c(n, radius=4, alpha=1.0, T=400000)\n",
    "plt.figure()\n",
    "plt.plot(succ)\n",
    "plt.show()"
   ]
  },
  {
   "cell_type": "code",
   "execution_count": 117,
   "metadata": {},
   "outputs": [
    {
     "name": "stdout",
     "output_type": "stream",
     "text": [
      "43.05525493621826 1152.0\n"
     ]
    },
    {
     "data": {
      "image/png": "[encoded data removed]",
      "text/plain": [
       "<Figure size 432x288 with 1 Axes>"
      ]
     },
     "metadata": {
      "needs_background": "light"
     },
     "output_type": "display_data"
    }
   ],
   "source": [
    "_, succ = simulated_annaling_c(n, radius=1, alpha=1.4, T=400000)\n",
    "plt.figure()\n",
    "plt.plot(succ)\n",
    "plt.show()"
   ]
  },
  {
   "cell_type": "code",
   "execution_count": 118,
   "metadata": {},
   "outputs": [
    {
     "name": "stdout",
     "output_type": "stream",
     "text": [
      "103.23290228843689 1214.0\n"
     ]
    },
    {
     "data": {
      "image/png": "[encoded data removed]",
      "text/plain": [
       "<Figure size 432x288 with 1 Axes>"
      ]
     },
     "metadata": {
      "needs_background": "light"
     },
     "output_type": "display_data"
    }
   ],
   "source": [
    "_, succ = simulated_annaling_c(n, radius=10, alpha=1.6, T=400000)\n",
    "plt.figure()\n",
    "plt.plot(succ)\n",
    "plt.show()"
   ]
  },
  {
   "cell_type": "code",
   "execution_count": 119,
   "metadata": {},
   "outputs": [
    {
     "name": "stdout",
     "output_type": "stream",
     "text": [
      "49.97214698791504 1152.0\n"
     ]
    },
    {
     "data": {
      "image/png": "[encoded data removed]",
      "text/plain": [
       "<Figure size 432x288 with 1 Axes>"
      ]
     },
     "metadata": {
      "needs_background": "light"
     },
     "output_type": "display_data"
    }
   ],
   "source": [
    "_, succ = simulated_annaling_c(n, radius=2, alpha=1.2, T=400000)\n",
    "plt.figure()\n",
    "plt.plot(succ)\n",
    "plt.show()"
   ]
  },
  {
   "cell_type": "markdown",
   "metadata": {},
   "source": [
    "## zad1 d)"
   ]
  },
  {
   "cell_type": "code",
   "execution_count": 122,
   "metadata": {},
   "outputs": [
    {
     "name": "stdout",
     "output_type": "stream",
     "text": [
      "0\n",
      "1\n",
      "3\n"
     ]
    }
   ],
   "source": [
    "def hamming_distance(p1, p2):\n",
    "    return sum([0 if a == b else 1 for a,b in zip(p1, p2)])\n",
    "\n",
    "print(hamming_distance([1,2,3], [1,2,3]))\n",
    "print(hamming_distance([1,2,3], [1,2,1]))\n",
    "print(hamming_distance([1,2,3], [5,5,1]))\n"
   ]
  },
  {
   "cell_type": "code",
   "execution_count": 473,
   "metadata": {},
   "outputs": [
    {
     "name": "stdout",
     "output_type": "stream",
     "text": [
      "Problem size: 20\n",
      "Flow matrix:\n",
      " [[0. 1. 2. 3. 4. 1. 2. 3. 4. 5. 2. 3. 4. 5. 6. 3. 4. 5. 6. 7.]\n",
      " [1. 0. 1. 2. 3. 2. 1. 2. 3. 4. 3. 2. 3. 4. 5. 4. 3. 4. 5. 6.]\n",
      " [2. 1. 0. 1. 2. 3. 2. 1. 2. 3. 4. 3. 2. 3. 4. 5. 4. 3. 4. 5.]\n",
      " [3. 2. 1. 0. 1. 4. 3. 2. 1. 2. 5. 4. 3. 2. 3. 6. 5. 4. 3. 4.]\n",
      " [4. 3. 2. 1. 0. 5. 4. 3. 2. 1. 6. 5. 4. 3. 2. 7. 6. 5. 4. 3.]\n",
      " [1. 2. 3. 4. 5. 0. 1. 2. 3. 4. 1. 2. 3. 4. 5. 2. 3. 4. 5. 6.]\n",
      " [2. 1. 2. 3. 4. 1. 0. 1. 2. 3. 2. 1. 2. 3. 4. 3. 2. 3. 4. 5.]\n",
      " [3. 2. 1. 2. 3. 2. 1. 0. 1. 2. 3. 2. 1. 2. 3. 4. 3. 2. 3. 4.]\n",
      " [4. 3. 2. 1. 2. 3. 2. 1. 0. 1. 4. 3. 2. 1. 2. 5. 4. 3. 2. 3.]\n",
      " [5. 4. 3. 2. 1. 4. 3. 2. 1. 0. 5. 4. 3. 2. 1. 6. 5. 4. 3. 2.]\n",
      " [2. 3. 4. 5. 6. 1. 2. 3. 4. 5. 0. 1. 2. 3. 4. 1. 2. 3. 4. 5.]\n",
      " [3. 2. 3. 4. 5. 2. 1. 2. 3. 4. 1. 0. 1. 2. 3. 2. 1. 2. 3. 4.]\n",
      " [4. 3. 2. 3. 4. 3. 2. 1. 2. 3. 2. 1. 0. 1. 2. 3. 2. 1. 2. 3.]\n",
      " [5. 4. 3. 2. 3. 4. 3. 2. 1. 2. 3. 2. 1. 0. 1. 4. 3. 2. 1. 2.]\n",
      " [6. 5. 4. 3. 2. 5. 4. 3. 2. 1. 4. 3. 2. 1. 0. 5. 4. 3. 2. 1.]\n",
      " [3. 4. 5. 6. 7. 2. 3. 4. 5. 6. 1. 2. 3. 4. 5. 0. 1. 2. 3. 4.]\n",
      " [4. 3. 4. 5. 6. 3. 2. 3. 4. 5. 2. 1. 2. 3. 4. 1. 0. 1. 2. 3.]\n",
      " [5. 4. 3. 4. 5. 4. 3. 2. 3. 4. 3. 2. 1. 2. 3. 2. 1. 0. 1. 2.]\n",
      " [6. 5. 4. 3. 4. 5. 4. 3. 2. 3. 4. 3. 2. 1. 2. 3. 2. 1. 0. 1.]\n",
      " [7. 6. 5. 4. 3. 6. 5. 4. 3. 2. 5. 4. 3. 2. 1. 4. 3. 2. 1. 0.]]\n",
      "Distance matrix:\n",
      " [[ 0.  0.  5.  0.  5.  2. 10.  3.  1.  5.  5.  5.  0.  0.  5.  4.  4.  0.\n",
      "   0.  1.]\n",
      " [ 0.  0.  3. 10.  5.  1.  5.  1.  2.  4.  2.  5.  0. 10. 10.  3.  0.  5.\n",
      "  10.  5.]\n",
      " [ 5.  3.  0.  2.  0.  5.  2.  4.  4.  5.  0.  0.  0.  5.  1.  0.  0.  5.\n",
      "   0.  0.]\n",
      " [ 0. 10.  2.  0.  1.  0.  5.  2.  1.  0. 10.  2.  2.  0.  2.  1.  5.  2.\n",
      "   5.  5.]\n",
      " [ 5.  5.  0.  1.  0.  5.  6.  5.  2.  5.  2.  0.  5.  1.  1.  1.  5.  2.\n",
      "   5.  1.]\n",
      " [ 2.  1.  5.  0.  5.  0.  5.  2.  1.  6.  0.  0. 10.  0.  2.  0.  1.  0.\n",
      "   1.  5.]\n",
      " [10.  5.  2.  5.  6.  5.  0.  0.  0.  0.  5. 10.  2.  2.  5.  1.  2.  1.\n",
      "   0. 10.]\n",
      " [ 3.  1.  4.  2.  5.  2.  0.  0.  1.  1. 10. 10.  2.  0. 10.  2.  5.  2.\n",
      "   2. 10.]\n",
      " [ 1.  2.  4.  1.  2.  1.  0.  1.  0.  2.  0.  3.  5.  5.  0.  5.  0.  0.\n",
      "   0.  2.]\n",
      " [ 5.  4.  5.  0.  5.  6.  0.  1.  2.  0.  5.  5.  0.  5.  1.  0.  0.  5.\n",
      "   5.  2.]\n",
      " [ 5.  2.  0. 10.  2.  0.  5. 10.  0.  5.  0.  5.  2.  5.  1. 10.  0.  2.\n",
      "   2.  5.]\n",
      " [ 5.  5.  0.  2.  0.  0. 10. 10.  3.  5.  5.  0.  2. 10.  5.  0.  1.  1.\n",
      "   2.  5.]\n",
      " [ 0.  0.  0.  2.  5. 10.  2.  2.  5.  0.  2.  2.  0.  2.  2.  1.  0.  0.\n",
      "   0.  5.]\n",
      " [ 0. 10.  5.  0.  1.  0.  2.  0.  5.  5.  5. 10.  2.  0.  5.  5.  1.  5.\n",
      "   5.  0.]\n",
      " [ 5. 10.  1.  2.  1.  2.  5. 10.  0.  1.  1.  5.  2.  5.  0.  3.  0.  5.\n",
      "  10. 10.]\n",
      " [ 4.  3.  0.  1.  1.  0.  1.  2.  5.  0. 10.  0.  1.  5.  3.  0.  0.  0.\n",
      "   2.  0.]\n",
      " [ 4.  0.  0.  5.  5.  1.  2.  5.  0.  0.  0.  1.  0.  1.  0.  0.  0.  5.\n",
      "   2.  0.]\n",
      " [ 0.  5.  5.  2.  2.  0.  1.  2.  0.  5.  2.  1.  0.  5.  5.  0.  5.  0.\n",
      "   1.  1.]\n",
      " [ 0. 10.  0.  5.  5.  1.  0.  2.  0.  5.  2.  2.  0.  5. 10.  2.  2.  1.\n",
      "   0.  6.]\n",
      " [ 1.  5.  0.  5.  1.  5. 10. 10.  2.  2.  5.  5.  5.  0. 10.  0.  0.  1.\n",
      "   6.  0.]]\n"
     ]
    }
   ],
   "source": [
    "n, A, B = read_data('http://anjos.mgi.polymtl.ca/qaplib/data.d/nug20.dat')\n",
    "\n",
    "def simulated_annaling_d(n, T=500000, radius=1, alpha=1.0):\n",
    "    t0 = time.time()\n",
    "\n",
    "    p = np.random.permutation(n)\n",
    "    p_cost = qap_objective_function(p)\n",
    "    costs = np.zeros(T)\n",
    "    succ_dist = [[] for _ in range(n+1)]\n",
    "    for t in range(T):\n",
    "        q = random_neighbor(p, radius)\n",
    "        q_cost = qap_objective_function(q)\n",
    "        if(q_cost < p_cost):\n",
    "            succ_dist[hamming_distance(q, p)].append(p_cost - q_cost)\n",
    "            p, p_cost = q, q_cost\n",
    "        elif(np.random.rand() < np.exp(- alpha * (q_cost - p_cost) * t/T)):\n",
    "            p, p_cost = q, q_cost\n",
    "        costs[t] = p_cost\n",
    "\n",
    "    print(time.time() - t0, costs.min())\n",
    "    return costs, succ_dist"
   ]
  },
  {
   "cell_type": "code",
   "execution_count": 474,
   "metadata": {},
   "outputs": [
    {
     "name": "stdout",
     "output_type": "stream",
     "text": [
      "55.64122438430786 2792.0\n"
     ]
    }
   ],
   "source": [
    "_, succ_dist = simulated_annaling_d(n, radius=10, alpha=1.2, T=200000)"
   ]
  },
  {
   "cell_type": "code",
   "execution_count": 475,
   "metadata": {},
   "outputs": [
    {
     "data": {
      "image/png": "[encoded data removed]",
      "text/plain": [
       "<Figure size 432x288 with 1 Axes>"
      ]
     },
     "metadata": {
      "needs_background": "light"
     },
     "output_type": "display_data"
    }
   ],
   "source": [
    "plt.figure()\n",
    "plt.plot([0 if len(x) == 0 else sum(x) / len(x) for x in succ_dist])\n",
    "plt.show()"
   ]
  },
  {
   "cell_type": "markdown",
   "metadata": {},
   "source": [
    "## ZAD 2"
   ]
  },
  {
   "cell_type": "code",
   "execution_count": 392,
   "metadata": {},
   "outputs": [],
   "source": [
    "def pbil(F, d=10, N=20, θ1=0.1, θ2=0.05, θ3=0.1, T=50):\n",
    "    def binary_random(p):\n",
    "        return 1 if np.random.rand(1)[0] < p else 0\n",
    "    \n",
    "    def initial_prop_vector():\n",
    "        p = np.array(np.empty(d))\n",
    "        p[:] = 0.5\n",
    "        return p\n",
    "    \n",
    "    def random_individual(p):\n",
    "        return [binary_random(pk) for pk in p]\n",
    "        \n",
    "    def random_population(p):\n",
    "        return [random_individual(p) for _ in range(N)]\n",
    "        \n",
    "    p = initial_prop_vector()\n",
    "    P = random_population(p)\n",
    "    hist = []\n",
    "    for _ in range(T):\n",
    "        cost, best = max([(F(i), i) for i in P], key=lambda x: x[0])\n",
    "        hist.append(cost)\n",
    "        p = [pk * (1.0 - θ1) + xik * θ1 for pk, xik in zip(p, best)]\n",
    "        \n",
    "        for k in range(d):\n",
    "            if np.random.rand(1)[0] < θ2:\n",
    "                p[k] = p[k] * (1 - θ3) + np.random.choice([0, 1]) * θ3\n",
    "        \n",
    "        P = random_population(p)\n",
    "    return best, hist\n"
   ]
  },
  {
   "cell_type": "code",
   "execution_count": 409,
   "metadata": {
    "scrolled": true
   },
   "outputs": [
    {
     "data": {
      "image/png": "[encoded data removed]",
      "text/plain": [
       "<Figure size 432x288 with 1 Axes>"
      ]
     },
     "metadata": {
      "needs_background": "light"
     },
     "output_type": "display_data"
    }
   ],
   "source": [
    "best, hist = pbil(F=sum, d=100, T=500) #oneMax\n",
    "plt.figure()\n",
    "plt.plot(hist)\n",
    "plt.show()"
   ]
  },
  {
   "cell_type": "code",
   "execution_count": 417,
   "metadata": {},
   "outputs": [
    {
     "data": {
      "image/png": "[encoded data removed]",
      "text/plain": [
       "<Figure size 432x288 with 1 Axes>"
      ]
     },
     "metadata": {
      "needs_background": "light"
     },
     "output_type": "display_data"
    }
   ],
   "source": [
    "best, hist = pbil(F=sum, d=1000, T=1000, N=200)\n",
    "plt.figure()\n",
    "plt.plot(hist)\n",
    "plt.show()"
   ]
  },
  {
   "cell_type": "code",
   "execution_count": 405,
   "metadata": {},
   "outputs": [
    {
     "data": {
      "image/png": "[encoded data removed]",
      "text/plain": [
       "<Figure size 432x288 with 1 Axes>"
      ]
     },
     "metadata": {
      "needs_background": "light"
     },
     "output_type": "display_data"
    }
   ],
   "source": [
    "## Deceptive OneMax\n",
    "def dec_oneMax(v):\n",
    "    s = sum(v)\n",
    "    return s if s != 0 else len(v) + 1\n",
    "\n",
    "best, hist = pbil(F=dec_oneMax, d=100, T=1000, N=100)\n",
    "plt.figure()\n",
    "plt.plot(hist)\n",
    "plt.show()"
   ]
  },
  {
   "cell_type": "code",
   "execution_count": 427,
   "metadata": {},
   "outputs": [
    {
     "data": {
      "image/png": "[encoded data removed]",
      "text/plain": [
       "<Figure size 432x288 with 1 Axes>"
      ]
     },
     "metadata": {
      "needs_background": "light"
     },
     "output_type": "display_data"
    }
   ],
   "source": [
    "best, hist = pbil(F=dec_oneMax, d=50, T=800, N=10000, θ1=0.1, θ2=1.0, θ3=1.0)\n",
    "plt.figure()\n",
    "plt.plot(hist)\n",
    "plt.show()"
   ]
  },
  {
   "cell_type": "code",
   "execution_count": 442,
   "metadata": {},
   "outputs": [
    {
     "data": {
      "image/png": "[encoded data removed]",
      "text/plain": [
       "<Figure size 432x288 with 1 Axes>"
      ]
     },
     "metadata": {
      "needs_background": "light"
     },
     "output_type": "display_data"
    }
   ],
   "source": [
    "best, hist = pbil(F=dec_oneMax, d=10, T=100, N=500, θ1=0.1, θ2=0.1, θ3=0.4)\n",
    "plt.figure()\n",
    "plt.plot(hist)\n",
    "plt.show()"
   ]
  },
  {
   "cell_type": "code",
   "execution_count": 470,
   "metadata": {},
   "outputs": [
    {
     "data": {
      "image/png": "[encoded data removed]",
      "text/plain": [
       "<Figure size 432x288 with 1 Axes>"
      ]
     },
     "metadata": {
      "needs_background": "light"
     },
     "output_type": "display_data"
    }
   ],
   "source": [
    "## K-DeceptiveOneMax\n",
    "def kdec_oneMax(v):\n",
    "    K = 5\n",
    "    chunks = [v[x:x+K] for x in range(0, len(v), K)]\n",
    "    return sum([dec_oneMax(x) for x in chunks])\n",
    "\n",
    "best, hist = pbil(F=kdec_oneMax, d=100, T=1000, N=100)\n",
    "plt.figure()\n",
    "plt.plot(hist)\n",
    "plt.show()"
   ]
  },
  {
   "cell_type": "code",
   "execution_count": 454,
   "metadata": {},
   "outputs": [
    {
     "data": {
      "image/png": "[encoded data removed]",
      "text/plain": [
       "<Figure size 432x288 with 1 Axes>"
      ]
     },
     "metadata": {
      "needs_background": "light"
     },
     "output_type": "display_data"
    }
   ],
   "source": [
    "best, hist = pbil(F=kdec_oneMax, d=50, T=1000, N=500)\n",
    "plt.figure()\n",
    "plt.plot(hist)\n",
    "plt.show()"
   ]
  },
  {
   "cell_type": "code",
   "execution_count": 472,
   "metadata": {},
   "outputs": [
    {
     "data": {
      "image/png": "[encoded data removed]",
      "text/plain": [
       "<Figure size 432x288 with 1 Axes>"
      ]
     },
     "metadata": {
      "needs_background": "light"
     },
     "output_type": "display_data"
    }
   ],
   "source": [
    "best, hist = pbil(F=kdec_oneMax, d=20, T=1000, N=4000, θ1=0.1, θ2=0.3, θ3=0.2)\n",
    "plt.figure()\n",
    "plt.plot(hist)\n",
    "plt.show()"
   ]
  },
  {
   "cell_type": "markdown",
   "metadata": {},
   "source": [
    "## zad3"
   ]
  },
  {
   "cell_type": "code",
   "execution_count": 354,
   "metadata": {},
   "outputs": [
    {
     "name": "stdout",
     "output_type": "stream",
     "text": [
      "9350 266\n"
     ]
    }
   ],
   "source": [
    "rules = []\n",
    "with open('ClassificationRules.txt') as frules:\n",
    "    for line in frules:\n",
    "        rules.append([int(c.split('.')[0]) for c in line.strip().split(' ') if c])\n",
    "\n",
    "expert = None\n",
    "with open('ImageExpertReduced.txt') as expert:\n",
    "    for line in expert:\n",
    "        expert = [int(c.split('.')[0]) for c in line.strip().split(' ') if c]\n",
    "expert = np.array(expert)\n",
    "print(len(expert), len(rules))"
   ]
  },
  {
   "cell_type": "code",
   "execution_count": 389,
   "metadata": {},
   "outputs": [],
   "source": [
    "def cost_function(p):\n",
    "    used_rules = []\n",
    "    for i,pk in enumerate(p):\n",
    "       if pk:\n",
    "        used_rules.append(rules[i])\n",
    "    return np.sum(np.array([np.argmax(np.bincount(x)) for x in np.stack(used_rules).transpose()]) == expert)\n"
   ]
  },
  {
   "cell_type": "code",
   "execution_count": 411,
   "metadata": {},
   "outputs": [
    {
     "data": {
      "image/png": "[encoded data removed]",
      "text/plain": [
       "<Figure size 432x288 with 1 Axes>"
      ]
     },
     "metadata": {
      "needs_background": "light"
     },
     "output_type": "display_data"
    }
   ],
   "source": [
    "best, hist = pbil(F=cost_function, d=266, T=1000, N=125)\n",
    "plt.figure()\n",
    "hist = [1 - (x / 9350) for x in hist]\n",
    "plt.plot(hist)\n",
    "plt.show()"
   ]
  },
  {
   "cell_type": "code",
   "execution_count": 412,
   "metadata": {},
   "outputs": [
    {
     "name": "stdout",
     "output_type": "stream",
     "text": [
      "0.014117647058823568\n"
     ]
    }
   ],
   "source": [
    "print(min(hist))"
   ]
  },
  {
   "cell_type": "code",
   "execution_count": null,
   "metadata": {},
   "outputs": [],
   "source": []
  },
  {
   "cell_type": "code",
   "execution_count": null,
   "metadata": {},
   "outputs": [],
   "source": []
  }
 ],
 "metadata": {
  "kernelspec": {
   "display_name": "Python 3",
   "language": "python",
   "name": "python3"
  },
  "language_info": {
   "codemirror_mode": {
    "name": "ipython",
    "version": 3
   },
   "file_extension": ".py",
   "mimetype": "text/x-python",
   "name": "python",
   "nbconvert_exporter": "python",
   "pygments_lexer": "ipython3",
   "version": "3.8.5"
  }
 },
 "nbformat": 4,
 "nbformat_minor": 2
}
