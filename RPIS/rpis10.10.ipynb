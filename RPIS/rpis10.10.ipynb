{
 "cells": [
  {
   "cell_type": "code",
   "execution_count": 5,
   "metadata": {
    "collapsed": false
   },
   "outputs": [],
   "source": [
    "using CSV\n"
   ]
  },
  {
   "cell_type": "code",
   "execution_count": 53,
   "metadata": {
    "collapsed": false
   },
   "outputs": [
    {
     "name": "stdout",
     "output_type": "stream",
     "text": [
      "2.448646594404006\n"
     ]
    }
   ],
   "source": [
    "data = CSV.read(\"w10-10.csv\" ; datarow=1, delim=';')\n",
    "m = 0;\n",
    "for i in 1:size(data, 1)\n",
    "    m += abs(data[i,1] - data[i, 2]);\n",
    "end\n",
    "m /= size(data, 1);\n",
    "e = 0;\n",
    "for i in 1:size(data, 1)\n",
    "    e += (abs(data[i, 1] - data[i, 2]) - m)^2;\n",
    "end\n",
    "e /= (size(data, 1) - 1);\n",
    "H0 = 0;\n",
    "t = (m - H0) / (e / sqrt(size(data, 1)));\n",
    "println(t);"
   ]
  },
  {
   "cell_type": "code",
   "execution_count": 55,
   "metadata": {
    "collapsed": false
   },
   "outputs": [
    {
     "data": {
      "text/plain": [
       "0.1"
      ]
     },
     "execution_count": 55,
     "metadata": {},
     "output_type": "execute_result"
    }
   ],
   "source": [
    "#po wpisaniu na stronke : socscistatistics.com/pvalue/tdistribution.aspx\n",
    "Sig = 0.01\n",
    "pvalue = 0.018421;\n",
    "# p < .01, wiec nie spelniona\n",
    "Sig = 0.05\n",
    "# p < 0.05 wiec k\n",
    "Sig = 0.10\n",
    "#jak wyzej\n",
    "#zatem hipoteza poprawna "
   ]
  },
  {
   "cell_type": "code",
   "execution_count": null,
   "metadata": {
    "collapsed": false
   },
   "outputs": [],
   "source": []
  },
  {
   "cell_type": "code",
   "execution_count": null,
   "metadata": {
    "collapsed": true
   },
   "outputs": [],
   "source": []
  }
 ],
 "metadata": {
  "anaconda-cloud": {},
  "kernelspec": {
   "display_name": "Julia 0.6.1",
   "language": "julia",
   "name": "julia-0.6"
  },
  "language_info": {
   "file_extension": ".jl",
   "mimetype": "application/julia",
   "name": "julia",
   "version": "0.6.1"
  }
 },
 "nbformat": 4,
 "nbformat_minor": 1
}
