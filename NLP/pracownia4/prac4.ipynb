{
 "cells": [
  {
   "cell_type": "code",
   "execution_count": 127,
   "metadata": {},
   "outputs": [],
   "source": [
    "import itertools\n",
    "import re\n",
    "import random\n",
    "import numpy as np\n",
    "import math\n",
    "from timeit import default_timer as timer\n",
    "from pysuffixarray.core import SuffixArray\n",
    "from collections import defaultdict\n",
    "import RMQ as rmq\n",
    "import regex"
   ]
  },
  {
   "cell_type": "code",
   "execution_count": 3,
   "metadata": {
    "pycharm": {
     "name": "#%%\n"
    }
   },
   "outputs": [],
   "source": [
    "def load_text(file='../train data/P4b/sentences_for_task1.txt'):\n",
    "    complete_text = ''\n",
    "    with open(file, 'r', encoding='utf8') as base_vectors_lines:\n",
    "        for line in base_vectors_lines:\n",
    "            line = line.strip().lower()\n",
    "            complete_text += ' ' + line\n",
    "\n",
    "    complete_text = complete_text + ' '\n",
    "    return complete_text\n",
    "\n",
    "text = load_text()\n",
    "sabase = SuffixArray(text)\n",
    "SA = sabase.suffix_array()\n",
    "LCP = sabase.longest_common_prefix()"
   ]
  },
  {
   "cell_type": "code",
   "execution_count": 207,
   "metadata": {
    "pycharm": {
     "name": "#%%\n"
    }
   },
   "outputs": [],
   "source": [
    "precomp_length = 16\n",
    "precomp_adj = 4\n",
    "alphabet = [' ', 'a', 'ą', 'b', 'c', 'ć', 'd', 'e', 'ę', 'f', 'g', 'h', 'i', 'j', 'k', 'l', 'ł', 'm', 'n','ń', 'o', 'ó', 'p', 'q', 'r', 's', 'ś', 't', 'u', 'v', 'w', 'x', 'y', 'z', 'ź', 'ż']\n",
    "\n",
    "def precompute_counts(ln):\n",
    "    word_counts = {}\n",
    "    template = {}\n",
    "    for a in alphabet:\n",
    "        template[a] = 0\n",
    "    adj_table = {}\n",
    "    for i in range(len(SA)):\n",
    "        for j in range(1, ln):\n",
    "            wrd = text[SA[i]:SA[i]+j]\n",
    "            if wrd not in word_counts:\n",
    "                word_counts[wrd] = [0, i]\n",
    "                if j <= precomp_adj:\n",
    "                    adj_table[wrd] = [template.copy(), template.copy()]\n",
    "            word_counts[wrd][0] += 1\n",
    "            if j <= precomp_adj:\n",
    "                if SA[i]-1 > 0:\n",
    "                    adj_table[wrd][0][text[SA[i]-1]] += 1\n",
    "                if SA[i]+j < len(text):\n",
    "                    adj_table[wrd][1][text[SA[i]+j]] += 1\n",
    "\n",
    "    return word_counts, adj_table"
   ]
  },
  {
   "cell_type": "code",
   "execution_count": 11,
   "metadata": {
    "pycharm": {
     "name": "#%%\n"
    }
   },
   "outputs": [],
   "source": [
    "word_counts, adj_table = precompute_counts(precomp_length)"
   ]
  },
  {
   "cell_type": "code",
   "execution_count": null,
   "metadata": {},
   "outputs": [],
   "source": []
  },
  {
   "cell_type": "code",
   "execution_count": 26,
   "metadata": {
    "pycharm": {
     "name": "#%%\n"
    }
   },
   "outputs": [],
   "source": [
    "def count_letters():\n",
    "    letters = defaultdict(int)\n",
    "    for l in text: \n",
    "        letters[l] += 1\n",
    "    return letters, sum([v for v in letters.values()])\n",
    "letters, letters_sum = count_letters()\n",
    "\n",
    "rmq = rmq.RMQ(len(SA))\n",
    "for i in range(len(LCP)):\n",
    "    rmq.update(i, LCP[i])"
   ]
  },
  {
   "cell_type": "code",
   "execution_count": 49,
   "metadata": {
    "pycharm": {
     "name": "#%%\n"
    }
   },
   "outputs": [],
   "source": [
    "def check_prefix(pre, w, init=0):\n",
    "    ln = len(pre)\n",
    "    lw = len(w)\n",
    "    for i in range(init, ln, 1):\n",
    "        if lw <= i:\n",
    "            return False, True\n",
    "        if w[i] != pre[i]:\n",
    "            return i, w[i] < pre[i]\n",
    "    return ln, True\n",
    "\n",
    "def binsearch_h(w, li, ri):\n",
    "    i = li\n",
    "    while li < ri:\n",
    "        preli = li\n",
    "        preri = ri\n",
    "        i = (li+ri)//2\n",
    "        lw = len(w)\n",
    "        ans = rmq.query(li+1, i+1)\n",
    "        if ans < lw:\n",
    "            ri = i\n",
    "        else:\n",
    "            li = i\n",
    "        if preli == li and preri == ri:\n",
    "            return li\n",
    "    return li\n",
    "\n",
    "def binsearch_l(w, li, ri):\n",
    "    i = ri\n",
    "    while li < ri:\n",
    "        preli = li\n",
    "        preri = ri\n",
    "        i = (li+ri)//2\n",
    "        lw = len(w)\n",
    "        ans = rmq.query(i+1, ri+1)\n",
    "        if ans < lw:\n",
    "            li = i\n",
    "        else:\n",
    "            ri = i\n",
    "        if preli == li and preri == ri:\n",
    "            return ri\n",
    "    return ri\n",
    "\n",
    "def count_words(w):\n",
    "    if len(w) <= precomp_length:\n",
    "        if w in word_counts:\n",
    "            return word_counts[w]\n",
    "        return 0, 10\n",
    "    li = 0\n",
    "    ri = len(SA)-1\n",
    "    lw = len(w)\n",
    "    i = -1\n",
    "    ans = 0\n",
    "    while li < ri:\n",
    "        preli = li\n",
    "        preri = ri\n",
    "        prei = i\n",
    "        i = (li+ri)//2\n",
    "        if prei < i:\n",
    "            init = rmq.query(prei+1, i+1)\n",
    "        else:\n",
    "            init = rmq.query(i+1, prei+1)\n",
    "        init = min(init, ans)\n",
    "        ans, direction = check_prefix(w, text[SA[i]:], init)\n",
    "        if ans < lw:\n",
    "            if direction:\n",
    "                li = i\n",
    "            else:\n",
    "                ri = i\n",
    "            if preli == li and preri == ri:\n",
    "                return 0, 0\n",
    "        else:\n",
    "            h = binsearch_h(w, i, ri)\n",
    "            l = binsearch_l(w, li, i)\n",
    "            return h - l + 1, l\n"
   ]
  },
  {
   "cell_type": "code",
   "execution_count": 27,
   "metadata": {
    "pycharm": {
     "name": "#%%\n"
    }
   },
   "outputs": [],
   "source": [
    "def check_adj(w):\n",
    "    if len(w) <= precomp_adj:\n",
    "        return adj_table[w]\n",
    "    bs, sp = count_words(w)\n",
    "    prefixes = defaultdict(int)\n",
    "    suffixes = defaultdict(int)\n",
    "    if bs > 1000000:\n",
    "        for a in alphabet:\n",
    "            pre, _ = count_words(a + w)\n",
    "            suf, _ = count_words(w + a)\n",
    "            prefixes[a] = pre\n",
    "            suffixes[a] = suf\n",
    "    else:\n",
    "        for i in range(sp, sp+bs):\n",
    "            if SA[i] - 1 > 0:\n",
    "                prefixes[text[SA[i]-1]] += 1\n",
    "            if SA[i] + len(w) < len(text):\n",
    "                suffixes[text[SA[i]+len(w)]] += 1\n",
    "    return prefixes, suffixes"
   ]
  },
  {
   "cell_type": "code",
   "execution_count": 204,
   "metadata": {
    "pycharm": {
     "name": "#%%\n"
    }
   },
   "outputs": [],
   "source": [
    "def suffix_prefix_heu(counter):\n",
    "    sm = max(1, sum(counter.values()))\n",
    "    mx = max(counter.values())\n",
    "    res = 0\n",
    "    for pp1, pp2 in [(letters[a]/letters_sum, counter[a]/sm) for a in alphabet]:\n",
    "        res += (pp2-pp1)*(pp2-pp1)\n",
    "    return res if counter[' '] != 0 and mx <= 3 else 0.8"
   ]
  },
  {
   "cell_type": "code",
   "execution_count": 173,
   "metadata": {
    "pycharm": {
     "name": "#%%\n"
    }
   },
   "outputs": [],
   "source": [
    "def check_pair(w1, w2):\n",
    "    ww1, ww2 = check_adj(w1), check_adj(w2)\n",
    "    ans1 = (suffix_prefix_heu(ww1[0]) ** 2 + suffix_prefix_heu(ww1[1]) ** 2)\n",
    "    ans2 = (suffix_prefix_heu(ww2[0]) ** 2 + suffix_prefix_heu(ww2[1]) ** 2)\n",
    "    if ans1 > ans2:\n",
    "        return -1\n",
    "    elif ans1 < ans2:\n",
    "        return 1\n",
    "    return 0"
   ]
  },
  {
   "cell_type": "code",
   "execution_count": 104,
   "metadata": {
    "pycharm": {
     "name": "#%%\n"
    }
   },
   "outputs": [],
   "source": [
    "def load_tests(file='../train data/P4b/test_for_task1.txt'):\n",
    "    complete_database = []\n",
    "    i = 0\n",
    "    with open(file, 'r', encoding='utf8') as base_vectors_lines:\n",
    "        for line in base_vectors_lines:\n",
    "            line = line.strip()\n",
    "            line = line.split(' ')\n",
    "            complete_database.append(line[0])\n",
    "            complete_database.append(line[1])\n",
    "            i += 1\n",
    "    return complete_database\n",
    "tests = load_tests()"
   ]
  },
  {
   "cell_type": "code",
   "execution_count": 105,
   "metadata": {
    "pycharm": {
     "name": "#%%\n"
    }
   },
   "outputs": [],
   "source": [
    "def resolve_tests(tests, debug=False):\n",
    "    score = 0\n",
    "    for i in range(0, len(tests), 2):\n",
    "        res = check_pair(tests[i], tests[i+1])\n",
    "        score += 1 if res == 1 else (0.5 if res == 0 else 0)\n",
    "        if debug:\n",
    "            print(tests[i], tests[i+1], res)\n",
    "    return (score*2) / len(tests)"
   ]
  },
  {
   "cell_type": "code",
   "execution_count": 215,
   "metadata": {
    "pycharm": {
     "name": "#%%\n"
    }
   },
   "outputs": [
    {
     "data": {
      "text/plain": [
       "0.851315"
      ]
     },
     "execution_count": 215,
     "metadata": {},
     "output_type": "execute_result"
    }
   ],
   "source": [
    "resolve_tests(tests)"
   ]
  },
  {
   "cell_type": "markdown",
   "metadata": {},
   "source": [
    "## Zad 2"
   ]
  },
  {
   "cell_type": "code",
   "execution_count": 65,
   "metadata": {
    "pycharm": {
     "name": "#%%\n"
    }
   },
   "outputs": [],
   "source": [
    "text2 = load_text('../train data/P4b/sentences_for_task2.txt')\n",
    "text_str = ''.join(text2)\n",
    "tests2 = load_tests('../train data/P4b/test_for_task2.txt')"
   ]
  },
  {
   "cell_type": "code",
   "execution_count": 206,
   "metadata": {
    "pycharm": {
     "name": "#%%\n"
    }
   },
   "outputs": [],
   "source": [
    "def run_tests2(tests, debug=False):\n",
    "    score = 0\n",
    "    for i in range(0, len(tests), 2):\n",
    "        t1 = len(regex.findall(\"(\" + tests[i]   + \")\", text_str))\n",
    "        t2 = len(regex.findall(\"(\" + tests[i+1] + \")\", text_str))\n",
    "        if t1 > t2:\n",
    "            score += 1\n",
    "        elif t1 == t2:\n",
    "            score += 0.5\n",
    "        if debug:\n",
    "            print(tests[i], tests[i+1], 1 if t1 > t2 else 0 if t1 == t2 else -1)\n",
    "    return (score*2) / len(tests)"
   ]
  },
  {
   "cell_type": "code",
   "execution_count": 228,
   "metadata": {
    "pycharm": {
     "name": "#%%\n"
    }
   },
   "outputs": [
    {
     "data": {
      "text/plain": [
       "0.816825"
      ]
     },
     "execution_count": 228,
     "metadata": {},
     "output_type": "execute_result"
    }
   ],
   "source": [
    "run_tests2(tests2, debug=False)"
   ]
  },
  {
   "cell_type": "markdown",
   "metadata": {},
   "source": [
    "## zad1a"
   ]
  },
  {
   "cell_type": "markdown",
   "metadata": {},
   "source": [
    "#### bez zmian:"
   ]
  },
  {
   "cell_type": "code",
   "execution_count": 5,
   "metadata": {},
   "outputs": [
    {
     "name": "stdout",
     "output_type": "stream",
     "text": [
      "% Disabled autoloading (loaded 28 files)\n",
      "% Disabled autoloading (loaded 2 files)\n",
      "% Disabled autoloading (loaded 0 files)\n",
      "6106\n"
     ]
    }
   ],
   "source": [
    "!swipl -c np_original.pl | grep -c GOOD"
   ]
  },
  {
   "cell_type": "markdown",
   "metadata": {},
   "source": [
    "#### po zmianach:"
   ]
  },
  {
   "cell_type": "code",
   "execution_count": 6,
   "metadata": {},
   "outputs": [
    {
     "name": "stdout",
     "output_type": "stream",
     "text": [
      "% Disabled autoloading (loaded 28 files)\n",
      "% Disabled autoloading (loaded 2 files)\n",
      "% Disabled autoloading (loaded 0 files)\n",
      "8051\n"
     ]
    }
   ],
   "source": [
    "!swipl -c np_original.pl | grep -c GOOD"
   ]
  },
  {
   "cell_type": "code",
   "execution_count": null,
   "metadata": {},
   "outputs": [],
   "source": []
  }
 ],
 "metadata": {
  "kernelspec": {
   "display_name": "Python 3",
   "language": "python",
   "name": "python3"
  },
  "language_info": {
   "codemirror_mode": {
    "name": "ipython",
    "version": 3
   },
   "file_extension": ".py",
   "mimetype": "text/x-python",
   "name": "python",
   "nbconvert_exporter": "python",
   "pygments_lexer": "ipython3",
   "version": "3.8.5"
  }
 },
 "nbformat": 4,
 "nbformat_minor": 1
}
